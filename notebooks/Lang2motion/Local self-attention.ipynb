{
 "cells": [
  {
   "cell_type": "code",
   "execution_count": 1,
   "id": "a62e4b8c-8554-4371-8fc1-49894c88f075",
   "metadata": {},
   "outputs": [
    {
     "name": "stdout",
     "output_type": "stream",
     "text": [
      "Installing packages:\n",
      "\t.package(path: \"/notebooks/language2motion.gt\")\n",
      "\t\tDatasets\n",
      "\t\tTranslationModels\n",
      "\t\tTextModels\n",
      "\t\tModelSupport\n",
      "\t\tSummaryWriter\n",
      "\t\tLangMotionModels\n",
      "\t\tLang2motion\n",
      "With SwiftPM flags: ['-c', 'release']\n",
      "Working in: /tmp/tmp4rwdp4nq/swift-install\n",
      "[1/3] Compiling MotionGenerator MotionDecoder2.swift\n",
      "[2/4] Compiling Lang2motion main.swift\n",
      "[3/4] Linking Lang2motion\n",
      "[4/5] Compiling jupyterInstalledPackages jupyterInstalledPackages.swift\n",
      "Initializing Swift...\n",
      "Installation complete!\n",
      "2021-09-05 18:14:58.188971: I tensorflow/stream_executor/platform/default/dso_loader.cc:48] Successfully opened dynamic library libcudart.so.11.0\n"
     ]
    }
   ],
   "source": [
    "// for local development\n",
    "%install-location /notebooks/language2motion.gt/swift-install\n",
    "%install-swiftpm-flags -c release\n",
    "%install '.package(path: \"/notebooks/language2motion.gt\")' Datasets TranslationModels TextModels ModelSupport SummaryWriter LangMotionModels Lang2motion"
   ]
  },
  {
   "cell_type": "code",
   "execution_count": 2,
   "id": "55e6a052-bb5c-4a2b-a26c-9ee1031a3ac1",
   "metadata": {},
   "outputs": [],
   "source": [
    "import TensorFlow"
   ]
  },
  {
   "cell_type": "code",
   "execution_count": 3,
   "id": "dd7725c3-8dd3-4840-bc51-35a5f3d9ba22",
   "metadata": {},
   "outputs": [
    {
     "name": "stdout",
     "output_type": "stream",
     "text": [
      "2021-09-05 18:15:04.628340: I tensorflow/core/platform/cpu_feature_guard.cc:142] This TensorFlow binary is optimized with oneAPI Deep Neural Network Library (oneDNN)to use the following CPU instructions in performance-critical operations:  SSE3 SSE4.1 SSE4.2 AVX AVX2 FMA\n",
      "To enable them in other operations, rebuild TensorFlow with the appropriate compiler flags.\n",
      "2021-09-05 18:15:04.663608: I tensorflow/core/platform/profile_utils/cpu_utils.cc:104] CPU Frequency: 3792780000 Hz\n",
      "2021-09-05 18:15:04.665337: I tensorflow/compiler/xla/service/service.cc:168] XLA service 0x2282110 initialized for platform Host (this does not guarantee that XLA will be used). Devices:\n",
      "2021-09-05 18:15:04.665363: I tensorflow/compiler/xla/service/service.cc:176]   StreamExecutor device (0): Host, Default Version\n",
      "2021-09-05 18:15:04.687257: I tensorflow/stream_executor/platform/default/dso_loader.cc:48] Successfully opened dynamic library libcuda.so.1\n",
      "2021-09-05 18:15:04.721214: I tensorflow/stream_executor/cuda/cuda_gpu_executor.cc:982] successful NUMA node read from SysFS had negative value (-1), but there must be at least one NUMA node, so returning NUMA node zero\n",
      "2021-09-05 18:15:04.721879: I tensorflow/core/common_runtime/gpu/gpu_device.cc:1716] Found device 0 with properties: \n",
      "pciBusID: 0000:0e:00.0 name: NVIDIA GeForce RTX 3090 computeCapability: 8.6\n",
      "coreClock: 1.785GHz coreCount: 82 deviceMemorySize: 23.69GiB deviceMemoryBandwidth: 871.81GiB/s\n",
      "2021-09-05 18:15:04.721891: I tensorflow/stream_executor/platform/default/dso_loader.cc:48] Successfully opened dynamic library libcudart.so.11.0\n",
      "2021-09-05 18:15:04.789811: I tensorflow/stream_executor/platform/default/dso_loader.cc:48] Successfully opened dynamic library libcublas.so.11\n",
      "2021-09-05 18:15:04.808798: I tensorflow/stream_executor/platform/default/dso_loader.cc:48] Successfully opened dynamic library libcufft.so.10\n",
      "2021-09-05 18:15:04.816908: I tensorflow/stream_executor/platform/default/dso_loader.cc:48] Successfully opened dynamic library libcurand.so.10\n",
      "2021-09-05 18:15:05.003606: I tensorflow/stream_executor/platform/default/dso_loader.cc:48] Successfully opened dynamic library libcusolver.so.10\n",
      "2021-09-05 18:15:05.023287: I tensorflow/stream_executor/platform/default/dso_loader.cc:48] Successfully opened dynamic library libcusparse.so.11\n",
      "2021-09-05 18:15:05.029711: I tensorflow/stream_executor/platform/default/dso_loader.cc:48] Successfully opened dynamic library libcudnn.so.8\n",
      "2021-09-05 18:15:05.029807: I tensorflow/stream_executor/cuda/cuda_gpu_executor.cc:982] successful NUMA node read from SysFS had negative value (-1), but there must be at least one NUMA node, so returning NUMA node zero\n",
      "2021-09-05 18:15:05.031054: I tensorflow/stream_executor/cuda/cuda_gpu_executor.cc:982] successful NUMA node read from SysFS had negative value (-1), but there must be at least one NUMA node, so returning NUMA node zero\n",
      "2021-09-05 18:15:05.032202: I tensorflow/core/common_runtime/gpu/gpu_device.cc:1858] Adding visible gpu devices: 0\n",
      "2021-09-05 18:15:05.310055: I tensorflow/core/common_runtime/gpu/gpu_device.cc:1257] Device interconnect StreamExecutor with strength 1 edge matrix:\n",
      "2021-09-05 18:15:05.310086: I tensorflow/core/common_runtime/gpu/gpu_device.cc:1263]      0 \n",
      "2021-09-05 18:15:05.310090: I tensorflow/core/common_runtime/gpu/gpu_device.cc:1276] 0:   N \n",
      "2021-09-05 18:15:05.310189: I tensorflow/stream_executor/cuda/cuda_gpu_executor.cc:982] successful NUMA node read from SysFS had negative value (-1), but there must be at least one NUMA node, so returning NUMA node zero\n",
      "2021-09-05 18:15:05.310822: I tensorflow/stream_executor/cuda/cuda_gpu_executor.cc:982] successful NUMA node read from SysFS had negative value (-1), but there must be at least one NUMA node, so returning NUMA node zero\n",
      "2021-09-05 18:15:05.311424: I tensorflow/stream_executor/cuda/cuda_gpu_executor.cc:982] successful NUMA node read from SysFS had negative value (-1), but there must be at least one NUMA node, so returning NUMA node zero\n",
      "2021-09-05 18:15:05.312041: I tensorflow/core/common_runtime/gpu/gpu_device.cc:1402] Created TensorFlow device (/job:localhost/replica:0/task:0/device:GPU:0 with 22355 MB memory) -> physical GPU (device: 0, name: NVIDIA GeForce RTX 3090, pci bus id: 0000:0e:00.0, compute capability: 8.6)\n",
      "2021-09-05 18:15:05.313404: I tensorflow/compiler/xla/service/service.cc:168] XLA service 0x15a7fb30 initialized for platform CUDA (this does not guarantee that XLA will be used). Devices:\n",
      "2021-09-05 18:15:05.313414: I tensorflow/compiler/xla/service/service.cc:176]   StreamExecutor device (0): NVIDIA GeForce RTX 3090, Compute Capability 8.6\n",
      "[1, 4, 4]\n"
     ]
    }
   ],
   "source": [
    "let t1 = Tensor<Float>([[[1.1, 1.2, 1.3, 1.4], \n",
    "                         [2.1, 2.2, 2.3, 2.4], \n",
    "                         [3.1, 3.2, 3.3, 3.4], \n",
    "                         [4.1, 4.2, 4.3, 4.4]]]).transposed(permutation: [0, 2, 1])\n",
    "print(t1.shape)\n",
    "// t1"
   ]
  },
  {
   "cell_type": "code",
   "execution_count": 4,
   "id": "4ff6421b-162d-43f5-8395-d7dff17ef8ae",
   "metadata": {},
   "outputs": [
    {
     "name": "stdout",
     "output_type": "stream",
     "text": [
      "[[[1.1, 2.1, 3.1, 4.1],\n",
      "  [1.2, 2.2, 3.2, 4.2],\n",
      "  [1.3, 2.3, 3.3, 4.3],\n",
      "  [1.4, 2.4, 3.4, 4.4]]]\n"
     ]
    }
   ],
   "source": [
    "print(t1)"
   ]
  },
  {
   "cell_type": "code",
   "execution_count": 5,
   "id": "ce6bd136-d187-4650-813e-c9b99369ae37",
   "metadata": {},
   "outputs": [
    {
     "name": "stdout",
     "output_type": "stream",
     "text": [
      "[[[1, 1, 1, 1],\n",
      "  [1, 1, 1, 1],\n",
      "  [1, 1, 1, 1],\n",
      "  [1, 1, 1, 1]]]\n"
     ]
    }
   ],
   "source": [
    "let t2 = Tensor<Int32>(ones: [1, 4, 4])\n",
    "print(t2)"
   ]
  },
  {
   "cell_type": "code",
   "execution_count": 6,
   "id": "6cec15b2-c475-497e-865e-b27f983d1a12",
   "metadata": {},
   "outputs": [
    {
     "name": "stdout",
     "output_type": "stream",
     "text": [
      "[[[1, 0, 0, 0],\n",
      "  [1, 1, 0, 0],\n",
      "  [1, 1, 1, 0],\n",
      "  [1, 1, 1, 1]]]\n"
     ]
    }
   ],
   "source": [
    "print(t2.bandPart(t2.shape[1], 0))"
   ]
  },
  {
   "cell_type": "code",
   "execution_count": 9,
   "id": "f612a33f-43be-4db7-87d3-250575a09bb3",
   "metadata": {},
   "outputs": [],
   "source": [
    "import Datasets"
   ]
  },
  {
   "cell_type": "code",
   "execution_count": 12,
   "id": "61f47e57-d15d-4d91-9aea-752f44b54f49",
   "metadata": {},
   "outputs": [],
   "source": [
    "let t3 = Tensor<Int32>(ones: [10])"
   ]
  },
  {
   "cell_type": "code",
   "execution_count": 18,
   "id": "b5d7eb88-afbe-42c4-9afc-201f8f604b33",
   "metadata": {},
   "outputs": [
    {
     "name": "stdout",
     "output_type": "stream",
     "text": [
      "[[[1.0, 0.0, 0.0, 0.0, 0.0, 0.0, 0.0, 0.0, 0.0, 0.0],\n",
      "  [1.0, 1.0, 0.0, 0.0, 0.0, 0.0, 0.0, 0.0, 0.0, 0.0],\n",
      "  [1.0, 1.0, 1.0, 0.0, 0.0, 0.0, 0.0, 0.0, 0.0, 0.0],\n",
      "  [1.0, 1.0, 1.0, 1.0, 0.0, 0.0, 0.0, 0.0, 0.0, 0.0],\n",
      "  [0.0, 1.0, 1.0, 1.0, 1.0, 0.0, 0.0, 0.0, 0.0, 0.0],\n",
      "  [0.0, 0.0, 1.0, 1.0, 1.0, 1.0, 0.0, 0.0, 0.0, 0.0],\n",
      "  [0.0, 0.0, 0.0, 1.0, 1.0, 1.0, 1.0, 0.0, 0.0, 0.0],\n",
      "  [0.0, 0.0, 0.0, 0.0, 1.0, 1.0, 1.0, 1.0, 0.0, 0.0],\n",
      "  [0.0, 0.0, 0.0, 0.0, 0.0, 1.0, 1.0, 1.0, 1.0, 0.0],\n",
      "  [0.0, 0.0, 0.0, 0.0, 0.0, 0.0, 1.0, 1.0, 1.0, 1.0]]]\n"
     ]
    }
   ],
   "source": [
    "let window_size = 3\n",
    "print(LangMotionBatch.makeSelfAttentionDecoderMask(target: t3, pad: 0).bandPart(window_size, 0))"
   ]
  },
  {
   "cell_type": "code",
   "execution_count": 8,
   "id": "8a25bc27-b361-43ef-8d0e-ea4b5fcb9a4d",
   "metadata": {},
   "outputs": [
    {
     "ename": "",
     "evalue": "",
     "execution_count": 8,
     "output_type": "error",
     "status": "error",
     "traceback": [
      "error: <Cell 8>:1:9: error: cannot find 'LangMotionBatch' in scope\nlet b = LangMotionBatch()\n        ^~~~~~~~~~~~~~~\n\n"
     ]
    }
   ],
   "source": [
    "let b = LangMotionBatch()"
   ]
  },
  {
   "cell_type": "code",
   "execution_count": null,
   "id": "f62d581f-bc60-4dfa-8cc0-306c08e928c7",
   "metadata": {},
   "outputs": [],
   "source": []
  }
 ],
 "metadata": {
  "kernelspec": {
   "display_name": "Swift",
   "language": "swift",
   "name": "swift"
  },
  "language_info": {
   "file_extension": ".swift",
   "mimetype": "text/x-swift",
   "name": "swift",
   "version": ""
  }
 },
 "nbformat": 4,
 "nbformat_minor": 5
}
