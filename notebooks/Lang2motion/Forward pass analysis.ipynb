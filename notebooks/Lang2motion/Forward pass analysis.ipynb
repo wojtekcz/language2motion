{
 "cells": [
  {
   "cell_type": "markdown",
   "metadata": {},
   "source": [
    "# Forward pass analysis"
   ]
  },
  {
   "cell_type": "code",
   "execution_count": null,
   "metadata": {},
   "outputs": [],
   "source": [
    "// for local development\n",
    "%install-location /notebooks/language2motion.gt/swift-install\n",
    "%install-swiftpm-flags -c release\n",
    "%install '.package(path: \"/notebooks/language2motion.gt\")' Datasets TranslationModels TextModels ModelSupport SummaryWriter LangMotionModels Checkpoints"
   ]
  },
  {
   "cell_type": "code",
   "execution_count": null,
   "metadata": {},
   "outputs": [],
   "source": [
    "import TensorFlow\n",
    "import TextModels\n",
    "import TranslationModels\n",
    "import Foundation\n",
    "import FoundationXML\n",
    "import ModelSupport\n",
    "import Datasets\n",
    "import SummaryWriter\n",
    "import LangMotionModels\n",
    "import Checkpoints\n",
    "import PythonKit"
   ]
  },
  {
   "cell_type": "code",
   "execution_count": null,
   "metadata": {},
   "outputs": [],
   "source": [
    "%include \"EnableIPythonDisplay.swift\"\n",
    "IPythonDisplay.shell.enable_matplotlib(\"inline\")"
   ]
  },
  {
   "cell_type": "markdown",
   "metadata": {},
   "source": [
    "## Set training params"
   ]
  },
  {
   "cell_type": "code",
   "execution_count": null,
   "metadata": {},
   "outputs": [],
   "source": [
    "let device = Device.defaultTFEager"
   ]
  },
  {
   "cell_type": "code",
   "execution_count": null,
   "metadata": {},
   "outputs": [],
   "source": [
    "let maxTextSequenceLength =  20\n",
    "let maxMotionLength =  100"
   ]
  },
  {
   "cell_type": "code",
   "execution_count": null,
   "metadata": {},
   "outputs": [],
   "source": [
    "let datasetSize: DatasetSize = .full\n",
    "let batchSize = 2"
   ]
  },
  {
   "cell_type": "code",
   "execution_count": null,
   "metadata": {},
   "outputs": [],
   "source": [
    "let dataURL = URL(fileURLWithPath: \"/notebooks/language2motion.gt/data/\")\n",
    "let motionDatasetURL = dataURL.appendingPathComponent(\"motion_dataset_v3.10Hz.\\(datasetSize.rawValue)plist\")"
   ]
  },
  {
   "cell_type": "code",
   "execution_count": null,
   "metadata": {},
   "outputs": [],
   "source": [
    "/// instantiate text processor\n",
    "let vocabularyURL = dataURL.appendingPathComponent(\"vocab.txt\")\n",
    "let vocabulary: Vocabulary = try! Vocabulary(fromFile: vocabularyURL)\n",
    "let tokenizer: Tokenizer = BERTTokenizer(vocabulary: vocabulary, caseSensitive: false, unknownToken: \"[UNK]\", maxTokenLength: nil)\n",
    "let textProcessor = TextProcessor(vocabulary: vocabulary, tokenizer: tokenizer)\n",
    "\n",
    "/// instantiate model\n",
    "let config = LangMotionTransformerConfig(\n",
    "    vocabSize: vocabulary.count,\n",
    "    nbJoints: 47, // TODO: get value from dataset\n",
    "    nbMixtures: 20,\n",
    "    layerCount: 6,\n",
    "    modelSize: 256,\n",
    "    feedForwardSize: 1024,\n",
    "    headCount: 8,\n",
    "    dropoutProbability:  0.1,\n",
    "    sentenceMaxPositionalLength: 100,\n",
    "    motionMaxPositionalLength: 500\n",
    ")\n",
    "\n",
    "let runName = \"run_25\"\n",
    "let epoch = 40\n",
    "\n",
    "// let runName = \"run_16\"\n",
    "// let epoch = 5\n",
    "\n",
    "\n",
    "let runURL = dataURL.appendingPathComponent(\"runs/Lang2motion/\\(runName)\", isDirectory: true)\n",
    "let checkpointURL = runURL.appendingPathComponent(\"checkpoints\", isDirectory: true)\n",
    "let motionsURL = runURL.appendingPathComponent(\"generated_motions\", isDirectory: true)\n",
    "try! FileManager().createDirectory(at: motionsURL, withIntermediateDirectories: true)\n",
    "\n",
    "let model = LangMotionTransformer(checkpoint: checkpointURL, config: config, name: \"model.e\\(epoch)\")"
   ]
  },
  {
   "cell_type": "code",
   "execution_count": null,
   "metadata": {
    "tags": []
   },
   "outputs": [],
   "source": [
    "/// load dataset\n",
    "print(\"\\nLoading dataset...\")\n",
    "\n",
    "var dataset = try Lang2Motion(\n",
    "    motionDatasetURL: motionDatasetURL,\n",
    "    batchSize: batchSize,\n",
    "    trainTestSplit: 1.0,\n",
    "    device: device\n",
    ") { (motionSample: MotionSample) -> LangMotionBatch in    \n",
    "    let sentence = textProcessor.preprocess(sentence: motionSample.annotations[0], maxTextSequenceLength: maxTextSequenceLength)\n",
    "    let (motionPart, target) = LangMotionBatch.preprocessTargetMotion(sampleID: motionSample.sampleID, motion: motionSample.motion, maxMotionLength: maxMotionLength)\n",
    "    let source = LangMotionBatch.Source(sentence: sentence, motionPart: motionPart)\n",
    "    let singleBatch = LangMotionBatch(source: source, target: target)\n",
    "    return singleBatch\n",
    "}\n",
    "\n",
    "print(\"Dataset acquired.\")"
   ]
  },
  {
   "cell_type": "markdown",
   "metadata": {},
   "source": [
    "# Forward pass"
   ]
  },
  {
   "cell_type": "code",
   "execution_count": null,
   "metadata": {},
   "outputs": [],
   "source": [
    "// + create batch\n",
    "// + run forward pass\n",
    "// + compute loss\n",
    "// TODO: visualize data:\n",
    "//       - ..."
   ]
  },
  {
   "cell_type": "code",
   "execution_count": null,
   "metadata": {},
   "outputs": [],
   "source": [
    "let motionSample = dataset.motionSamples[0]\n",
    "print(\"sampleID: \\(motionSample.sampleID)\")\n",
    "print(motionSample.description)\n",
    "print(motionSample.annotations)"
   ]
  },
  {
   "cell_type": "code",
   "execution_count": null,
   "metadata": {},
   "outputs": [],
   "source": [
    "extension LangMotionBatch {\n",
    "    public static func preprocessTargetMotion2(sampleID: Int, motion: Tensor<Float>, maxMotionLength: Int) -> (motionPart: MotionPart, target: Target)\n",
    "    {\n",
    "        // print(\"preprocessTargetMotion(sampleID: \\(sampleID), motion: \\(motion.shape), maxMotionLength: \\(maxMotionLength))\")        \n",
    "\n",
    "        let origMotionFramesCount: Tensor<Int32> = Tensor<Int32>([Int32(motion.shape[0])])\n",
    "        \n",
    "        var (paddedMotion, motionFlag) = motion.paddedAndCropped(to: maxMotionLength)\n",
    "        // print(\"paddedMotion: \\(paddedMotion.shape), motionFlag: \\(motionFlag.shape)\")\n",
    "        paddedMotion = paddedMotion.expandingShape(at: 0)\n",
    "        motionFlag = motionFlag.expandingShape(at: 0)\n",
    "\n",
    "        // source (motionPart & motion flag)\n",
    "        let rangeExceptLast = 0..<(paddedMotion.shape[1] - 1)\n",
    "        let motionPartTensor = paddedMotion[0..., rangeExceptLast, 0...]\n",
    "\n",
    "        let motionPartFlag = motionFlag[0..., rangeExceptLast]\n",
    "        let motionPartMask = makeStandardMask(target: motionPartFlag, pad: 0) // FIXME: fix target mask\n",
    "\n",
    "        let motionPart = MotionPart(motion: motionPartTensor, mask: motionPartMask)\n",
    "        // motionPart.printMotionPart()\n",
    "\n",
    "        // target (motion & stops)\n",
    "        // FIXME: should targetTruthStop encompass current motion frame?\n",
    "        let targetMotion: Tensor<Float> = paddedMotion[0..., 1..., 0...]\n",
    "        let targetMotionFlag = motionFlag[0..., 1...]\n",
    "        let targetStops: Tensor<Float> = 1.0 - Tensor<Float>(targetMotionFlag)\n",
    "\n",
    "        let target = Target(sampleID: Tensor([Int32(sampleID)]), motion: targetMotion, stops: targetStops, origMotionFramesCount: origMotionFramesCount)\n",
    "        // target.printTarget()\n",
    "        return (motionPart: motionPart, target: target)\n",
    "    }\n",
    "}"
   ]
  },
  {
   "cell_type": "code",
   "execution_count": null,
   "metadata": {},
   "outputs": [],
   "source": [
    "let sentence = textProcessor.preprocess(sentence: motionSample.annotations[0], maxTextSequenceLength: maxTextSequenceLength)\n",
    "let (motionPart, target) = LangMotionBatch.preprocessTargetMotion2(sampleID: motionSample.sampleID, motion: motionSample.motion, maxMotionLength: maxMotionLength)\n",
    "let source = LangMotionBatch.Source(sentence: sentence, motionPart: motionPart)\n",
    "let singleBatch = LangMotionBatch(source: source, target: target)"
   ]
  },
  {
   "cell_type": "code",
   "execution_count": null,
   "metadata": {},
   "outputs": [],
   "source": [
    "@differentiable\n",
    "public func normalMixtureSurrogateLoss2(y_true: LangMotionBatch.Target, y_pred: MixtureModelPreds, args: LossArgs) -> Tensor<Float> {\n",
    "    let TINY: Float = 1e-8\n",
    "    let pi: Float = 3.1415\n",
    "    let nb_mixtures = args.nb_mixtures\n",
    "    let nb_joints = args.nb_joints\n",
    "\n",
    "    let all_means = y_pred.mixtureMeans\n",
    "    let all_variances = y_pred.mixtureVars + TINY\n",
    "    let weights = y_pred.mixtureWeights\n",
    "    let stops = y_pred.stops.squeezingShape(at: 2)\n",
    "\n",
    "    var log_mixture_pdf: Tensor<Float> = Tensor<Float>(zeros: [weights.shape[0], weights.shape[1]], on: args.device) \n",
    "    for mixture_idx in 0..<nb_mixtures {\n",
    "        let start_idx = mixture_idx * nb_joints\n",
    "        let means = all_means[0..., 0..., start_idx..<start_idx + nb_joints]\n",
    "        let variances = all_variances[0..., 0..., start_idx..<start_idx + nb_joints]\n",
    "        let diff = y_true.motion - means\n",
    "        let pdf1 = 1.0 / sqrt(variances * 2.0 * pi)\n",
    "        let pdf2a = diff.squared()\n",
    "        let pdf2 = exp(-(pdf2a) / (2.0 * variances))\n",
    "        let pdf = pdf1 * pdf2\n",
    "        let weighted_pdf = weights[0..., 0..., mixture_idx] * \n",
    "            log(pdf + TINY).sum(alongAxes:2).squeezingShape(at: 2)\n",
    "        log_mixture_pdf = log_mixture_pdf + weighted_pdf\n",
    "    }\n",
    "\n",
    "    let b_pdf1 = Float(1.0) - y_true.stops\n",
    "    let b_pdf2 = Float(1.0) - stops\n",
    "    let bernoulli_pdf = y_true.stops * stops + b_pdf1 * b_pdf2\n",
    "    let log_bernoulli_pdf = log(bernoulli_pdf + TINY)\n",
    "\n",
    "    var mixture_reg: Float = 0.0\n",
    "    if args.mixture_regularizer_type == \"cv\" {\n",
    "        // We want to use (std / mean)^2 = std^2 / mean^2 = var / mean^2.\n",
    "        mixture_reg = weights.variance().scalarized() / \n",
    "            weights.mean().squared().scalarized()\n",
    "    } else if args.mixture_regularizer_type == \"l2\" {\n",
    "        mixture_reg = weights.squared().sum().scalarized()\n",
    "    } else {\n",
    "        mixture_reg = 0.0\n",
    "    }\n",
    "    // TODO: divide loss (component?) by maxMotionLength\n",
    "    // TODO: move loss averaging here\n",
    "\n",
    "    // print(\"log_mixture_pdf: \\(log_mixture_pdf)\")\n",
    "\n",
    "    // print(\"log_bernoulli_pdf: \\(log_bernoulli_pdf)\")\n",
    "\n",
    "    let loss = -(log_mixture_pdf + log_bernoulli_pdf) +\n",
    "        args.mixture_regularizer * mixture_reg\n",
    "    return loss\n",
    "}\n"
   ]
  },
  {
   "cell_type": "code",
   "execution_count": null,
   "metadata": {},
   "outputs": [],
   "source": [
    "// Loss function\n",
    "let args = LossArgs(\n",
    "        nb_joints: config.nbJoints,\n",
    "        nb_mixtures: config.nbMixtures,\n",
    "        mixture_regularizer_type: \"None\",  // [\"cv\", \"l2\", \"None\"]\n",
    "        mixture_regularizer: 0.0,\n",
    "        device: device\n",
    ")\n",
    "\n",
    "@differentiable\n",
    "func embeddedNormalMixtureSurrogateLoss(y_pred: MixtureModelPreds, y_true: LangMotionBatch.Target) -> Tensor<Float> {\n",
    "    let loss = normalMixtureSurrogateLoss2(y_true: y_true, y_pred: y_pred, args: args)    \n",
    "    print(\"loss: \\(loss)\")\n",
    "    let n_items: Float = Float(loss.shape[0] * loss.shape[1])\n",
    "    print(\"n_items: \\(n_items)\")\n",
    "    let avg_loss = loss.sum() / n_items\n",
    "    print(\"avg_loss: \\(avg_loss)\")\n",
    "    return avg_loss\n",
    "}"
   ]
  },
  {
   "cell_type": "markdown",
   "metadata": {},
   "source": [
    "## source: sentence, motionPart"
   ]
  },
  {
   "cell_type": "code",
   "execution_count": null,
   "metadata": {},
   "outputs": [],
   "source": [
    "singleBatch.source.printSource()"
   ]
  },
  {
   "cell_type": "markdown",
   "metadata": {},
   "source": [
    "## target: motion, stops"
   ]
  },
  {
   "cell_type": "code",
   "execution_count": null,
   "metadata": {},
   "outputs": [],
   "source": [
    "singleBatch.target.printTarget()"
   ]
  },
  {
   "cell_type": "code",
   "execution_count": null,
   "metadata": {},
   "outputs": [],
   "source": [
    "singleBatch.target.stops[0, 0..<38]"
   ]
  },
  {
   "cell_type": "code",
   "execution_count": null,
   "metadata": {},
   "outputs": [],
   "source": [
    "singleBatch.target.stops[0, 38...]"
   ]
  },
  {
   "cell_type": "markdown",
   "metadata": {},
   "source": [
    "## figure out masking in loss function"
   ]
  },
  {
   "cell_type": "raw",
   "metadata": {},
   "source": [
    "@differentiable(wrt: logits)\n",
    "public func softmaxCrossEntropy(logits: Tensor<Float>, labels: Tensor<Int32>, ignoreIndex: Int32) -> Tensor<Float> {\n",
    "    let ids = Tensor<Int32>(rangeFrom: 0, to: Int32(labels.shape.first!), stride: 1)\n",
    "    let indices = ids.gathering(where: labels .!= Tensor(ignoreIndex))\n",
    "    let maskedLogits = logits.gathering(atIndices: indices, alongAxis: 0)\n",
    "    let maskedTargets = labels.gathering(atIndices: indices, alongAxis: 0)\n",
    "    return softmaxCrossEntropy(logits: maskedLogits, labels: maskedTargets)\n",
    "}"
   ]
  },
  {
   "cell_type": "code",
   "execution_count": null,
   "metadata": {},
   "outputs": [],
   "source": [
    "let batch = LangMotionBatch.reduceDataBatches([singleBatch, singleBatch])"
   ]
  },
  {
   "cell_type": "markdown",
   "metadata": {},
   "source": [
    "### reshape"
   ]
  },
  {
   "cell_type": "code",
   "execution_count": null,
   "metadata": {},
   "outputs": [],
   "source": [
    "batch.target.printTarget()"
   ]
  },
  {
   "cell_type": "raw",
   "metadata": {},
   "source": [
    "extension LangMotionBatch.Target {\n",
    "    public func squeezed() -> Self {\n",
    "        let bs = self.motion.shape[0]\n",
    "        let nFrames = self.motion.shape[1]\n",
    "        let nJoints = self.motion.shape[2]\n",
    "        let motion = self.motion.reshaped(to: [1, bs*nFrames, nJoints])\n",
    "        let stops = self.stops.reshaped(to: [1, bs*nFrames])\n",
    "        let origMotionFramesCount = self.origMotionFramesCount.sum().expandingShape(at: 0)\n",
    "        return Self(sampleID: self.sampleID, motion: motion, stops: stops, origMotionFramesCount: origMotionFramesCount)\n",
    "    }\n",
    "}\n",
    "// batch.target.squeezed().printTarget()"
   ]
  },
  {
   "cell_type": "code",
   "execution_count": null,
   "metadata": {},
   "outputs": [],
   "source": []
  },
  {
   "cell_type": "raw",
   "metadata": {},
   "source": [
    "batch.source.motionPart.printMotionPart()"
   ]
  },
  {
   "cell_type": "raw",
   "metadata": {},
   "source": [
    "extension LangMotionBatch.MotionPart {\n",
    "    public func squeezed() -> LangMotionBatch.MotionPart {\n",
    "        let bs = self.motion.shape[0]\n",
    "        let nFrames = self.motion.shape[1]\n",
    "        let nJoints = self.motion.shape[2]\n",
    "        let motion = self.motion.reshaped(to: [1, bs*nFrames, nJoints])\n",
    "        let mask = self.mask.reshaped(to: [1, bs*nFrames, 1*nFrames])\n",
    "        return LangMotionBatch.MotionPart(motion: motion, mask: mask)\n",
    "    }\n",
    "}\n",
    "batch.source.motionPart.squeezed().printMotionPart()"
   ]
  },
  {
   "cell_type": "code",
   "execution_count": null,
   "metadata": {},
   "outputs": [],
   "source": []
  },
  {
   "cell_type": "code",
   "execution_count": null,
   "metadata": {},
   "outputs": [],
   "source": [
    "let batchPreds = model(batch.source)\n",
    "batchPreds.printPreds()"
   ]
  },
  {
   "cell_type": "raw",
   "metadata": {},
   "source": [
    "extension MixtureModelPreds {\n",
    "    \n",
    "    @differentiable\n",
    "    public func squeezed() -> Self {\n",
    "        let bs = self.mixtureMeans.shape[0]\n",
    "        let nFrames = self.mixtureMeans.shape[1]\n",
    "        let nJointsMixtures = self.mixtureMeans.shape[2]\n",
    "        let nMixtures = self.mixtureWeights.shape[2]\n",
    "        \n",
    "        let mixtureMeans = self.mixtureMeans.reshaped(to: [1, bs*nFrames, nJointsMixtures])\n",
    "        let mixtureVars = self.mixtureVars.reshaped(to: [1, bs*nFrames, nJointsMixtures])\n",
    "        let mixtureWeights = self.mixtureWeights.reshaped(to: [1, bs*nFrames, nMixtures])\n",
    "        let stops = self.stops.reshaped(to: [1, bs*nFrames, 1])        \n",
    "        \n",
    "        return Self(mixtureMeans: mixtureMeans, mixtureVars: mixtureVars, mixtureWeights: mixtureWeights, stops: stops)\n",
    "    }\n",
    "}\n",
    "// batchPreds.squeezed().printPreds()"
   ]
  },
  {
   "cell_type": "markdown",
   "metadata": {},
   "source": [
    "## preds"
   ]
  },
  {
   "cell_type": "code",
   "execution_count": null,
   "metadata": {},
   "outputs": [],
   "source": [
    "let singlePreds = model(singleBatch.source)\n",
    "singlePreds.printPreds()"
   ]
  },
  {
   "cell_type": "markdown",
   "metadata": {},
   "source": [
    "## gather"
   ]
  },
  {
   "cell_type": "raw",
   "metadata": {},
   "source": [
    "@differentiable(wrt: logits)\n",
    "public func softmaxCrossEntropy(logits: Tensor<Float>, labels: Tensor<Int32>, ignoreIndex: Int32) -> Tensor<Float> {\n",
    "    let ids = Tensor<Int32>(rangeFrom: 0, to: Int32(labels.shape.first!), stride: 1)\n",
    "    let indices = ids.gathering(where: labels .!= Tensor(ignoreIndex))\n",
    "    let maskedLogits = logits.gathering(atIndices: indices, alongAxis: 0)\n",
    "    let maskedTargets = labels.gathering(atIndices: indices, alongAxis: 0)\n",
    "    return softmaxCrossEntropy(logits: maskedLogits, labels: maskedTargets)\n",
    "}"
   ]
  },
  {
   "cell_type": "code",
   "execution_count": null,
   "metadata": {},
   "outputs": [],
   "source": [
    "// let y_true = batch.target.squeezed()\n",
    "// let y_pred = batchPreds.squeezed()\n",
    "let y_true = singleBatch.target.squeezed()\n",
    "let y_pred = singlePreds.squeezed()\n",
    "y_true.printTarget()\n",
    "y_pred.printPreds()"
   ]
  },
  {
   "cell_type": "markdown",
   "metadata": {},
   "source": [
    "### mask"
   ]
  },
  {
   "cell_type": "raw",
   "metadata": {},
   "source": [
    "let ids = Tensor<Int32>(rangeFrom: 0, to: Int32(labels.shape.first!), stride: 1)"
   ]
  },
  {
   "cell_type": "code",
   "execution_count": null,
   "metadata": {},
   "outputs": [],
   "source": [
    "let ids = Tensor<Int32>(rangeFrom: 0, to: Int32(y_true.stops.shape[1]), stride: 1)\n",
    "ids"
   ]
  },
  {
   "cell_type": "code",
   "execution_count": null,
   "metadata": {},
   "outputs": [],
   "source": []
  },
  {
   "cell_type": "raw",
   "metadata": {},
   "source": [
    "let indices = ids.gathering(where: labels .!= Tensor(ignoreIndex))"
   ]
  },
  {
   "cell_type": "code",
   "execution_count": null,
   "metadata": {},
   "outputs": [],
   "source": [
    "let indices = ids.gathering(where: y_true.stops .!= Tensor(1))\n",
    "indices"
   ]
  },
  {
   "cell_type": "code",
   "execution_count": null,
   "metadata": {},
   "outputs": [],
   "source": [
    "indices.shape"
   ]
  },
  {
   "cell_type": "code",
   "execution_count": null,
   "metadata": {},
   "outputs": [],
   "source": []
  },
  {
   "cell_type": "raw",
   "metadata": {},
   "source": [
    "let maskedLogits = logits.gathering(atIndices: indices, alongAxis: 0)"
   ]
  },
  {
   "cell_type": "raw",
   "metadata": {},
   "source": [
    "extension MixtureModelPreds {\n",
    "    \n",
    "    @differentiable\n",
    "    public func gathering(atIndices indices: Tensor<Int32>, alongAxis axis: Int) -> Self {\n",
    "        let maskedMixtureMeans = self.mixtureMeans.gathering(atIndices: indices, alongAxis: axis)\n",
    "        let maskedMixtureVars = self.mixtureVars.gathering(atIndices: indices, alongAxis: axis)\n",
    "        let maskedMixtureWeights = self.mixtureWeights.gathering(atIndices: indices, alongAxis: axis)\n",
    "        let maskedStops = self.stops.gathering(atIndices: indices, alongAxis: axis)\n",
    "        return Self(mixtureMeans: maskedMixtureMeans, mixtureVars: maskedMixtureVars, mixtureWeights: maskedMixtureWeights, stops: maskedStops)\n",
    "    }\n",
    "}\n",
    "// y_pred.gathering(atIndices: indices, alongAxis: 1).printPreds()"
   ]
  },
  {
   "cell_type": "code",
   "execution_count": null,
   "metadata": {},
   "outputs": [],
   "source": []
  },
  {
   "cell_type": "raw",
   "metadata": {},
   "source": [
    "let maskedTargets = labels.gathering(atIndices: indices, alongAxis: 0)"
   ]
  },
  {
   "cell_type": "code",
   "execution_count": null,
   "metadata": {},
   "outputs": [],
   "source": [
    "y_true.printTarget()"
   ]
  },
  {
   "cell_type": "raw",
   "metadata": {},
   "source": [
    "extension LangMotionBatch.Target {\n",
    "    public func gathering(atIndices indices: Tensor<Int32>, alongAxis axis: Int) -> Self {\n",
    "        let motion = self.motion.gathering(atIndices: indices, alongAxis: axis)\n",
    "        let stops = self.stops.gathering(atIndices: indices, alongAxis: axis)\n",
    "        return Self(sampleID: self.sampleID, motion: motion, stops: stops, origMotionFramesCount: self.origMotionFramesCount)\n",
    "    }\n",
    "}\n",
    "// y_true.gathering(atIndices: indices, alongAxis: 1).printTarget()"
   ]
  },
  {
   "cell_type": "code",
   "execution_count": null,
   "metadata": {},
   "outputs": [],
   "source": [
    "@differentiable(wrt: y_pred)\n",
    "func embeddedNormalMixtureSurrogateLoss2(y_pred: MixtureModelPreds, y_true: LangMotionBatch.Target) -> Tensor<Float> {\n",
    "    var y_pred = y_pred.squeezed()\n",
    "    var y_true = y_true.squeezed()\n",
    "    let ids = Tensor<Int32>(rangeFrom: 0, to: Int32(y_true.stops.shape[1]), stride: 1)\n",
    "    let indices = ids.gathering(where: y_true.stops .!= Tensor(1))\n",
    "    y_pred = y_pred.gathering(atIndices: indices, alongAxis: 1)\n",
    "    y_true = y_true.gathering(atIndices: indices, alongAxis: 1)\n",
    "    \n",
    "    let loss = normalMixtureSurrogateLoss2(y_true: y_true, y_pred: y_pred, args: args)    \n",
    "    print(\"loss: \\(loss)\")\n",
    "    let n_items: Float = Float(loss.shape[0] * loss.shape[1])\n",
    "    print(\"n_items: \\(n_items)\")\n",
    "    let avg_loss = loss.sum() / n_items\n",
    "    print(\"avg_loss: \\(avg_loss)\")\n",
    "    return avg_loss\n",
    "}\n",
    "let loss = embeddedNormalMixtureSurrogateLoss2(y_pred: batchPreds, y_true: batch.target)\n",
    "loss"
   ]
  },
  {
   "cell_type": "code",
   "execution_count": null,
   "metadata": {},
   "outputs": [],
   "source": [
    "let loss = embeddedNormalMixtureSurrogateLoss2(y_pred: singlePreds, y_true: singleBatch.target)\n",
    "loss"
   ]
  },
  {
   "cell_type": "code",
   "execution_count": null,
   "metadata": {},
   "outputs": [],
   "source": []
  },
  {
   "cell_type": "markdown",
   "metadata": {},
   "source": [
    "## loss"
   ]
  },
  {
   "cell_type": "code",
   "execution_count": null,
   "metadata": {},
   "outputs": [],
   "source": [
    "let loss = embeddedNormalMixtureSurrogateLoss2(y_pred: singlePreds, y_true: singleBatch.target)\n",
    "loss"
   ]
  },
  {
   "cell_type": "code",
   "execution_count": null,
   "metadata": {},
   "outputs": [],
   "source": [
    "let loss = embeddedNormalMixtureSurrogateLoss(y_pred: singlePreds, y_true: singleBatch.target)\n",
    "loss"
   ]
  },
  {
   "cell_type": "markdown",
   "metadata": {},
   "source": [
    "## frame losses"
   ]
  },
  {
   "cell_type": "code",
   "execution_count": null,
   "metadata": {},
   "outputs": [],
   "source": [
    "let frameLosses = normalMixtureSurrogateLoss(y_true: singleBatch.target, y_pred: preds, args: args)\n",
    "frameLosses.shape"
   ]
  },
  {
   "cell_type": "markdown",
   "metadata": {},
   "source": [
    "active motion losses"
   ]
  },
  {
   "cell_type": "code",
   "execution_count": null,
   "metadata": {},
   "outputs": [],
   "source": [
    "frameLosses[0, 0..<38]"
   ]
  },
  {
   "cell_type": "markdown",
   "metadata": {},
   "source": [
    "stops, should be masked?"
   ]
  },
  {
   "cell_type": "code",
   "execution_count": null,
   "metadata": {},
   "outputs": [],
   "source": [
    "frameLosses[0, 38...]"
   ]
  },
  {
   "cell_type": "markdown",
   "metadata": {},
   "source": [
    "## preds.stops"
   ]
  },
  {
   "cell_type": "code",
   "execution_count": null,
   "metadata": {},
   "outputs": [],
   "source": [
    "round(preds.stops[0, 0..<38].squeezingShape(at: 1))"
   ]
  },
  {
   "cell_type": "code",
   "execution_count": null,
   "metadata": {},
   "outputs": [],
   "source": [
    "round(preds.stops[0, 38...].squeezingShape(at: 1))"
   ]
  },
  {
   "cell_type": "code",
   "execution_count": null,
   "metadata": {},
   "outputs": [],
   "source": []
  },
  {
   "cell_type": "code",
   "execution_count": null,
   "metadata": {},
   "outputs": [],
   "source": []
  }
 ],
 "metadata": {
  "kernelspec": {
   "display_name": "Swift",
   "language": "swift",
   "name": "swift"
  },
  "language_info": {
   "file_extension": ".swift",
   "mimetype": "text/x-swift",
   "name": "swift",
   "version": ""
  }
 },
 "nbformat": 4,
 "nbformat_minor": 4
}
