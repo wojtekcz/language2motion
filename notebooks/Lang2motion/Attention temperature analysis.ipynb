{
 "cells": [
  {
   "cell_type": "markdown",
   "metadata": {},
   "source": [
    "# Attention temperature analysis"
   ]
  },
  {
   "cell_type": "code",
   "execution_count": null,
   "metadata": {},
   "outputs": [],
   "source": [
    "// for local development\n",
    "%install-location /notebooks/language2motion.gt/swift-install\n",
    "%install-swiftpm-flags -c release\n",
    "%install '.package(path: \"/notebooks/language2motion.gt\")' Datasets TranslationModels TextModels ModelSupport SummaryWriter LangMotionModels Checkpoints"
   ]
  },
  {
   "cell_type": "code",
   "execution_count": null,
   "metadata": {},
   "outputs": [],
   "source": [
    "import TensorFlow\n",
    "import TextModels\n",
    "import TranslationModels\n",
    "import Foundation\n",
    "import FoundationXML\n",
    "import ModelSupport\n",
    "import Datasets\n",
    "import SummaryWriter\n",
    "import LangMotionModels\n",
    "import Checkpoints\n",
    "import PythonKit"
   ]
  },
  {
   "cell_type": "code",
   "execution_count": null,
   "metadata": {},
   "outputs": [],
   "source": [
    "%include \"EnableIPythonDisplay.swift\"\n",
    "IPythonDisplay.shell.enable_matplotlib(\"inline\")"
   ]
  },
  {
   "cell_type": "code",
   "execution_count": null,
   "metadata": {},
   "outputs": [],
   "source": [
    "let plt = Python.import(\"matplotlib.pyplot\")\n",
    "let np = Python.import(\"numpy\")"
   ]
  },
  {
   "cell_type": "markdown",
   "metadata": {},
   "source": [
    "## Set training params"
   ]
  },
  {
   "cell_type": "code",
   "execution_count": null,
   "metadata": {},
   "outputs": [],
   "source": [
    "let device = Device.defaultTFEager"
   ]
  },
  {
   "cell_type": "code",
   "execution_count": null,
   "metadata": {},
   "outputs": [],
   "source": [
    "let maxTextSequenceLength =  20\n",
    "let maxMotionLength =  50"
   ]
  },
  {
   "cell_type": "code",
   "execution_count": null,
   "metadata": {},
   "outputs": [],
   "source": [
    "let datasetSize: DatasetSize = .full\n",
    "let batchSize = 2"
   ]
  },
  {
   "cell_type": "code",
   "execution_count": null,
   "metadata": {},
   "outputs": [],
   "source": [
    "let dataURL = URL(fileURLWithPath: \"/notebooks/language2motion.gt/data/\")\n",
    "let motionDatasetURL = dataURL.appendingPathComponent(\"motion_dataset_v3.10Hz.\\(datasetSize.rawValue)plist\")"
   ]
  },
  {
   "cell_type": "code",
   "execution_count": null,
   "metadata": {},
   "outputs": [],
   "source": [
    "/// instantiate text processor\n",
    "let vocabularyURL = dataURL.appendingPathComponent(\"vocab.txt\")\n",
    "let vocabulary: Vocabulary = try! Vocabulary(fromFile: vocabularyURL)\n",
    "let tokenizer: Tokenizer = BERTTokenizer(vocabulary: vocabulary, caseSensitive: false, unknownToken: \"[UNK]\", maxTokenLength: nil)\n",
    "let textProcessor = TextProcessor(vocabulary: vocabulary, tokenizer: tokenizer)\n",
    "\n",
    "/// instantiate model\n",
    "let modelSize = 128\n",
    "let config = LangMotionTransformerConfig(\n",
    "    vocabSize: vocabulary.count,\n",
    "    nbJoints: 47, // TODO: get value from dataset\n",
    "    nbMixtures: 20,\n",
    "    layerCount: 6,\n",
    "    modelSize: modelSize,\n",
    "    feedForwardSize: 512,\n",
    "    headCount: 4,\n",
    "    dropoutProbability:  0.1,\n",
    "    sentenceMaxPositionalLength: 100,\n",
    "    motionMaxPositionalLength: 500,\n",
    "    encoderSelfAttentionTemp: sqrt(Double(modelSize)),\n",
    "    decoderSourceAttentionTemp: sqrt(Double(modelSize)),\n",
    "    decoderSelfAttentionTemp: Double(modelSize)\n",
    ")\n",
    "\n",
    "let runName = \"run_51\"\n",
    "let epoch = 150\n",
    "\n",
    "let runURL = dataURL.appendingPathComponent(\"runs/Lang2motion/\\(runName)\", isDirectory: true)\n",
    "let checkpointURL = runURL.appendingPathComponent(\"checkpoints\", isDirectory: true)\n",
    "let motionsURL = runURL.appendingPathComponent(\"generated_motions\", isDirectory: true)\n",
    "try! FileManager().createDirectory(at: motionsURL, withIntermediateDirectories: true)\n",
    "\n",
    "let model = LangMotionTransformer(checkpoint: checkpointURL, config: config, name: \"model.e\\(epoch)\")"
   ]
  },
  {
   "cell_type": "code",
   "execution_count": null,
   "metadata": {
    "tags": []
   },
   "outputs": [],
   "source": [
    "/// load dataset\n",
    "print(\"\\nLoading dataset...\")\n",
    "\n",
    "var dataset = try Lang2Motion(\n",
    "    motionDatasetURL: motionDatasetURL,\n",
    "    batchSize: batchSize,\n",
    "    minMotionLength: 20,\n",
    "    maxMotionLength: 50,\n",
    "    trainTestSplit: 1.0,\n",
    "    device: device\n",
    ") { (motionSample: MotionSample) -> LangMotionBatch in    \n",
    "    let sentence = textProcessor.preprocess(sentence: motionSample.annotations[0], maxTextSequenceLength: maxTextSequenceLength)\n",
    "    let (motionPart, target) = LangMotionBatch.preprocessTargetMotion(sampleID: motionSample.sampleID, motion: motionSample.motion, maxMotionLength: maxMotionLength, shiftMaskRight: true)\n",
    "    let source = LangMotionBatch.Source(sentence: sentence, motionPart: motionPart)\n",
    "    let singleBatch = LangMotionBatch(source: source, target: target)\n",
    "    return singleBatch\n",
    "}\n",
    "\n",
    "print(\"Dataset acquired.\")"
   ]
  },
  {
   "cell_type": "markdown",
   "metadata": {},
   "source": [
    "# Helpers"
   ]
  },
  {
   "cell_type": "code",
   "execution_count": null,
   "metadata": {},
   "outputs": [],
   "source": [
    "// func tensorShow(_ tensor: Tensor<Float>, cmapRange: Float = 6.0) {\n",
    "//     plt.figure(figsize: [5, 5])\n",
    "//     plt.imshow(tensor.makeNumpyArray(), aspect: \"auto\", cmap: \"Spectral\", vmin: -cmapRange, vmax: cmapRange)\n",
    "//     plt.show()\n",
    "// }\n",
    "\n",
    "func tensorShow(_ tensor: Tensor<Float>, cmapRange: Float = 6.0) {\n",
    "    plt.figure(figsize: [5, 5])\n",
    "    if cmapRange == 0.0 {\n",
    "        plt.imshow(tensor.makeNumpyArray()) //, aspect: \"auto\") //, cmap: \"Spectral\")\n",
    "    } else {\n",
    "        plt.imshow(tensor.makeNumpyArray(), aspect: \"auto\", cmap: \"Spectral\", vmin: -cmapRange, vmax: cmapRange)\n",
    "    }\n",
    "    plt.show()\n",
    "}"
   ]
  },
  {
   "cell_type": "code",
   "execution_count": null,
   "metadata": {},
   "outputs": [],
   "source": [
    "extension LangMotionTransformer {\n",
    "    public func getDecoderInput(sourceMask: Tensor<Float>, motionPart: LangMotionBatch.MotionPart, memory: Tensor<Float>,\n",
    "                                decoderSourceAttentionTemp: Float = 1.0,\n",
    "                                decoderSelfAttentionTemp: Float = 1.0\n",
    "                               ) -> DecoderInput<Float> {\n",
    "        var motionPartFeatures: Tensor<Float>\n",
    "\n",
    "        // start flag, pos enc, current motion, padding with motion\n",
    "        let shape = motionPart.motion.shape\n",
    "        let (batchSize, numFrames) = (shape[0], shape[1])\n",
    "\n",
    "        // motion positional encoding\n",
    "        var motionPositionalEncodingVector = Tensor<Float>(repeating: 0.0, shape: [batchSize, numFrames, motionPositionalEncodingSize])\n",
    "        motionPositionalEncodingVector = motionPositionalEncoding(motionPositionalEncodingVector)\n",
    "        \n",
    "        // compute padding\n",
    "        let paddingSize = modelSize - (1 + motionPositionalEncodingSize + nbJoints)\n",
    "        \n",
    "        let multiplyBy = paddingSize/nbJoints + 1\n",
    "        let motionFramePadding = motionPart.motion.tiled(multiples: [1, 1, multiplyBy])[0..., 0..., 0..<paddingSize]\n",
    "\n",
    "        // stack everything together\n",
    "        let tensorStack = [motionPart.startFlag, motionPositionalEncodingVector, motionPart.motion, motionFramePadding]\n",
    "        let tmpMotionPartFeatures = Tensor<Float>(concatenating: tensorStack, alongAxis: 2)\n",
    "        motionPartFeatures = tmpMotionPartFeatures\n",
    "\n",
    "        motionPartFeatures = self.motionNorm(motionPartFeatures)\n",
    "        \n",
    "        let decoderInput = DecoderInput(sequence: motionPartFeatures, sourceMask: sourceMask, targetMask: motionPart.mask, memory: memory,\n",
    "                                        sourceAttentionTemperature: decoderSourceAttentionTemp, selfAttentionTemperature: decoderSelfAttentionTemp)\n",
    "        return decoderInput\n",
    "    }\n",
    "}"
   ]
  },
  {
   "cell_type": "markdown",
   "metadata": {},
   "source": [
    "## Single batch"
   ]
  },
  {
   "cell_type": "code",
   "execution_count": null,
   "metadata": {},
   "outputs": [],
   "source": [
    "let motionSample = dataset.motionSamples[0]\n",
    "print(\"sampleID: \\(motionSample.sampleID)\")\n",
    "print(motionSample.description)\n",
    "print(motionSample.annotations)"
   ]
  },
  {
   "cell_type": "code",
   "execution_count": null,
   "metadata": {},
   "outputs": [],
   "source": [
    "let sentence = textProcessor.preprocess(sentence: motionSample.annotations[0], maxTextSequenceLength: maxTextSequenceLength)\n",
    "let (motionPart, target) = LangMotionBatch.preprocessTargetMotion(sampleID: motionSample.sampleID, motion: motionSample.motion, maxMotionLength: maxMotionLength, shiftMaskRight: true)\n",
    "let source = LangMotionBatch.Source(sentence: sentence, motionPart: motionPart)\n",
    "let singleBatch = LangMotionBatch(source: source, target: target)"
   ]
  },
  {
   "cell_type": "code",
   "execution_count": null,
   "metadata": {},
   "outputs": [],
   "source": [
    "let trInput = singleBatch.source"
   ]
  },
  {
   "cell_type": "code",
   "execution_count": null,
   "metadata": {},
   "outputs": [],
   "source": [
    "func tensorShow2(_ tensor: Tensor<Float>) {\n",
    "    plt.imshow(tensor.makeNumpyArray(), cmap: \"Spectral\")\n",
    "    plt.show()\n",
    "}"
   ]
  },
  {
   "cell_type": "code",
   "execution_count": null,
   "metadata": {},
   "outputs": [],
   "source": [
    "func showAll(_ tensor: Tensor<Float>, contrast: Float = 1.0, figsize: [Float] = [5, 8]) {\n",
    "    let npArr = tensor.makeNumpyArray()\n",
    "    let sbpl = plt.subplots(6, 4, figsize: figsize)\n",
    "    let f = sbpl[0]\n",
    "    let axarr = sbpl[1]\n",
    "    let vmax = (tensor.max()/contrast).scalar\n",
    "    for i in 0..<6 {\n",
    "        for j in 0..<4 {\n",
    "            axarr[i, j].imshow(npArr[i, j], vmax: vmax, cmap: \"Spectral\")\n",
    "            axarr[i, j].tick_params(labelbottom: false, labelleft: false, bottom: false, left: false)\n",
    "        } \n",
    "    }\n",
    "\n",
    "    plt.show()\n",
    "}"
   ]
  },
  {
   "cell_type": "markdown",
   "metadata": {},
   "source": [
    "# Encoder"
   ]
  },
  {
   "cell_type": "code",
   "execution_count": null,
   "metadata": {},
   "outputs": [],
   "source": [
    "trInput.sentence.printSentence()"
   ]
  },
  {
   "cell_type": "raw",
   "metadata": {},
   "source": [
    "let encoded = model.encode(input: trInput.sentence)\n",
    "print(encoded.lastLayerOutput.shape)\n",
    "tensorShow(encoded.lastLayerOutput[0], cmapRange: 0.0)"
   ]
  },
  {
   "cell_type": "raw",
   "metadata": {},
   "source": [
    "extension LangMotionTransformer {\n",
    "    @differentiable\n",
    "    public func encode(input: LangMotionBatch.Sentence) -> EncoderOutput<Float> {\n",
    "        let embedded = self.sourceEmbed(input.tokenIds)\n",
    "        let encoderInput = TransformerInput(sequence: embedded, attentionMask: input.mask, selfAttentionTemperature: Float(self.encoderSelfAttentionTemp))\n",
    "        return self.encoder(encoderInput)\n",
    "    }\n",
    "}"
   ]
  },
  {
   "cell_type": "code",
   "execution_count": null,
   "metadata": {},
   "outputs": [],
   "source": [
    "let input = trInput.sentence\n",
    "let embedded = model.sourceEmbed(input.tokenIds)\n",
    "let encoderSelfAttentionTemp: Float = 100.0\n",
    "let encoderInput = TransformerInput(sequence: embedded, attentionMask: input.mask, selfAttentionTemperature: encoderSelfAttentionTemp)\n",
    "let encoded = model.encoder(encoderInput)\n",
    "\n",
    "print(\"encoderSelfAttentionTemp: \\(encoderSelfAttentionTemp)\")\n",
    "print(encoded.lastLayerOutput.shape)\n",
    "tensorShow(encoded.lastLayerOutput[0], cmapRange: 0.0)"
   ]
  },
  {
   "cell_type": "markdown",
   "metadata": {},
   "source": [
    "## self-attention mask"
   ]
  },
  {
   "cell_type": "code",
   "execution_count": null,
   "metadata": {},
   "outputs": [],
   "source": [
    "trInput.sentence.mask"
   ]
  },
  {
   "cell_type": "markdown",
   "metadata": {},
   "source": [
    "## encoder self-attention\n",
    "### one output"
   ]
  },
  {
   "cell_type": "code",
   "execution_count": null,
   "metadata": {},
   "outputs": [],
   "source": [
    "let encAttnOutput = encoded.allLayerOutputs[0].attentionOutput!\n",
    "tensorShow2(encAttnOutput.attentionProbs[0, 0])\n",
    "tensorShow2(max(encAttnOutput.attentionScores, 0)[0, 0])"
   ]
  },
  {
   "cell_type": "markdown",
   "metadata": {},
   "source": [
    "## all outputs"
   ]
  },
  {
   "cell_type": "code",
   "execution_count": null,
   "metadata": {},
   "outputs": [],
   "source": [
    "let attentionProbs = Tensor(stacking: encoded.allLayerOutputs.map { $0.attentionOutput!.attentionProbs[0]}, alongAxis: 0)\n",
    "print(\"attentionProbs.shape: \\(attentionProbs.shape)\")\n",
    "print(attentionProbs.min(), attentionProbs.max())\n",
    "showAll(attentionProbs, contrast: 1, figsize: [3, 6])"
   ]
  },
  {
   "cell_type": "code",
   "execution_count": null,
   "metadata": {},
   "outputs": [],
   "source": [
    "let attentionScores = max(Tensor(stacking: encoded.allLayerOutputs.map { $0.attentionOutput!.attentionScores[0]}, alongAxis: 0), 0)\n",
    "print(\"attentionScores.shape: \\(attentionScores.shape)\")\n",
    "print(attentionScores.min(), attentionScores.max())\n",
    "showAll(attentionScores, contrast: 1, figsize: [3, 6])"
   ]
  },
  {
   "cell_type": "code",
   "execution_count": null,
   "metadata": {},
   "outputs": [],
   "source": []
  },
  {
   "cell_type": "markdown",
   "metadata": {},
   "source": [
    "## encoder output"
   ]
  },
  {
   "cell_type": "code",
   "execution_count": null,
   "metadata": {},
   "outputs": [],
   "source": [
    "let encodedResults = Tensor(stacking: encoded.allLayerOutputs.map {$0.result[0]} )\n",
    "print(encodedResults.shape)\n",
    "print(encodedResults.min(), encodedResults.max())\n",
    "tensorShow(encodedResults.reshaped(to: [6*20, 128]), cmapRange: 0.0)"
   ]
  },
  {
   "cell_type": "code",
   "execution_count": null,
   "metadata": {},
   "outputs": [],
   "source": []
  },
  {
   "cell_type": "markdown",
   "metadata": {},
   "source": [
    "# Decoder"
   ]
  },
  {
   "cell_type": "raw",
   "metadata": {},
   "source": [
    "let decoded = model.decode(sourceMask: trInput.sourceAttentionMask, motionPart: trInput.motionPart, memory: encoded.lastLayerOutput)\n",
    "print(decoded.allLayerOutputs.count)\n",
    "decoded.lastLayerOutput.shape"
   ]
  },
  {
   "cell_type": "code",
   "execution_count": null,
   "metadata": {},
   "outputs": [],
   "source": [
    "sqrt(Double(modelSize))"
   ]
  },
  {
   "cell_type": "code",
   "execution_count": null,
   "metadata": {},
   "outputs": [],
   "source": [
    "let decoderSourceAttentionTemp: Float = 160.0\n",
    "let decoderSelfAttentionTemp: Float = 100.0\n",
    "\n",
    "let decoderInput = model.getDecoderInput(\n",
    "    sourceMask: trInput.sourceAttentionMask, \n",
    "    motionPart: trInput.motionPart, \n",
    "    memory: encoded.lastLayerOutput,\n",
    "    decoderSourceAttentionTemp: decoderSourceAttentionTemp,\n",
    "    decoderSelfAttentionTemp: decoderSelfAttentionTemp\n",
    ")\n",
    "\n",
    "let decoded = model.decoder(decoderInput)\n",
    "\n",
    "print(\"decoderSourceAttentionTemp: \\(decoderSourceAttentionTemp)\")\n",
    "print(\"decoderSelfAttentionTemp: \\(decoderSelfAttentionTemp)\")\n",
    "print(decoded.allLayerOutputs.count)\n",
    "decoded.lastLayerOutput.shape"
   ]
  },
  {
   "cell_type": "markdown",
   "metadata": {},
   "source": [
    "## source attention mask"
   ]
  },
  {
   "cell_type": "code",
   "execution_count": null,
   "metadata": {},
   "outputs": [],
   "source": [
    "tensorShow2(trInput.sourceAttentionMask.squeezingShape(at: 0))"
   ]
  },
  {
   "cell_type": "markdown",
   "metadata": {},
   "source": [
    "## self-attention decoder mask"
   ]
  },
  {
   "cell_type": "code",
   "execution_count": null,
   "metadata": {},
   "outputs": [],
   "source": [
    "tensorShow2(trInput.motionPart.mask.squeezingShape(at: 0))"
   ]
  },
  {
   "cell_type": "code",
   "execution_count": null,
   "metadata": {},
   "outputs": [],
   "source": []
  },
  {
   "cell_type": "markdown",
   "metadata": {},
   "source": [
    "## decoder source attention"
   ]
  },
  {
   "cell_type": "code",
   "execution_count": null,
   "metadata": {},
   "outputs": [],
   "source": [
    "let srcAttnOutput = decoded.allLayerOutputs[0].sourceAttentionOutput!\n",
    "tensorShow2(srcAttnOutput.attentionProbs[0, 0])\n",
    "tensorShow2(max(srcAttnOutput.attentionScores[0, 0], 0))"
   ]
  },
  {
   "cell_type": "code",
   "execution_count": null,
   "metadata": {},
   "outputs": [],
   "source": [
    "let srcAttnProbs = Tensor(stacking: decoded.allLayerOutputs.map { $0.sourceAttentionOutput!.attentionProbs[0]}, alongAxis: 0)\n",
    "print(\"srcAttnProbs.shape: \\(srcAttnProbs.shape)\")\n",
    "print(srcAttnProbs.min(), srcAttnProbs.max())\n",
    "showAll(srcAttnProbs, contrast: 2, figsize: [3, 10])"
   ]
  },
  {
   "cell_type": "code",
   "execution_count": null,
   "metadata": {},
   "outputs": [],
   "source": [
    "let srcAttnScores = max(Tensor(stacking: decoded.allLayerOutputs.map { $0.sourceAttentionOutput!.attentionScores[0]}, alongAxis: 0), 0)\n",
    "print(\"srcAttnScores.shape: \\(srcAttnScores.shape)\")\n",
    "print(srcAttnScores.min(), srcAttnScores.max())\n",
    "showAll(srcAttnScores, contrast: 10, figsize: [3, 10])"
   ]
  },
  {
   "cell_type": "markdown",
   "metadata": {},
   "source": [
    "## one source attention"
   ]
  },
  {
   "cell_type": "code",
   "execution_count": null,
   "metadata": {},
   "outputs": [],
   "source": [
    "let oneSourceScores = decoded.allLayerOutputs[0].sourceAttentionOutput!.attentionScores[0, 0]\n",
    "oneSourceScores.shape"
   ]
  },
  {
   "cell_type": "code",
   "execution_count": null,
   "metadata": {},
   "outputs": [],
   "source": [
    "let oneSourceScores2 = max(oneSourceScores, 0)"
   ]
  },
  {
   "cell_type": "code",
   "execution_count": null,
   "metadata": {},
   "outputs": [],
   "source": [
    "tensorShow2(oneSourceScores2)"
   ]
  },
  {
   "cell_type": "code",
   "execution_count": null,
   "metadata": {},
   "outputs": [],
   "source": [
    "let slice = 20"
   ]
  },
  {
   "cell_type": "code",
   "execution_count": null,
   "metadata": {},
   "outputs": [],
   "source": [
    "oneSourceScores[slice]"
   ]
  },
  {
   "cell_type": "code",
   "execution_count": null,
   "metadata": {},
   "outputs": [],
   "source": [
    "softmax(oneSourceScores[slice])*100"
   ]
  },
  {
   "cell_type": "code",
   "execution_count": null,
   "metadata": {},
   "outputs": [],
   "source": [
    "plt.plot(softmax(oneSourceScores[slice]).makeNumpyArray())\n",
    "plt.show()"
   ]
  },
  {
   "cell_type": "code",
   "execution_count": null,
   "metadata": {},
   "outputs": [],
   "source": [
    "oneSourceScores2[slice]"
   ]
  },
  {
   "cell_type": "code",
   "execution_count": null,
   "metadata": {},
   "outputs": [],
   "source": [
    "(oneSourceScores2[slice]).sum()"
   ]
  },
  {
   "cell_type": "code",
   "execution_count": null,
   "metadata": {},
   "outputs": [],
   "source": [
    "plt.plot(softmax(oneSourceScores2[slice]).makeNumpyArray())\n",
    "plt.show()"
   ]
  },
  {
   "cell_type": "markdown",
   "metadata": {},
   "source": [
    "## decoder self-attention"
   ]
  },
  {
   "cell_type": "code",
   "execution_count": null,
   "metadata": {},
   "outputs": [],
   "source": [
    "let tgtAttnProbs = Tensor(stacking: decoded.allLayerOutputs.map { $0.targetAttentionOutput!.attentionProbs[0]}, alongAxis: 0)\n",
    "print(\"tgtAttnProbs.shape: \\(tgtAttnProbs.shape)\")\n",
    "print(tgtAttnProbs.min(), tgtAttnProbs.max())\n",
    "showAll(tgtAttnProbs, contrast: 1, figsize: [7, 12])"
   ]
  },
  {
   "cell_type": "code",
   "execution_count": null,
   "metadata": {},
   "outputs": [],
   "source": [
    "let tgtAttnScores = max(Tensor(stacking: decoded.allLayerOutputs.map { $0.targetAttentionOutput!.attentionScores[0]}, alongAxis: 0), 0)\n",
    "print(\"tgtAttnScores.shape: \\(tgtAttnScores.shape)\")\n",
    "print(tgtAttnScores.min(), tgtAttnScores.max())\n",
    "showAll(tgtAttnScores, contrast: 1, figsize: [7, 12])"
   ]
  },
  {
   "cell_type": "markdown",
   "metadata": {},
   "source": [
    "## self-attention activations mins, maxs"
   ]
  },
  {
   "cell_type": "code",
   "execution_count": null,
   "metadata": {},
   "outputs": [],
   "source": [
    "tensorShow2(trInput.motionPart.mask.squeezingShape(at: 0))"
   ]
  },
  {
   "cell_type": "code",
   "execution_count": null,
   "metadata": {},
   "outputs": [],
   "source": [
    "let oneMaskProbs = decoded.allLayerOutputs[0].targetAttentionOutput!.attentionProbs[0, 0]\n",
    "oneMaskProbs.shape"
   ]
  },
  {
   "cell_type": "code",
   "execution_count": null,
   "metadata": {},
   "outputs": [],
   "source": [
    "tensorShow2(oneMaskProbs)"
   ]
  },
  {
   "cell_type": "code",
   "execution_count": null,
   "metadata": {},
   "outputs": [],
   "source": [
    "plt.plot(oneMaskProbs[20].makeNumpyArray())\n",
    "plt.show()"
   ]
  },
  {
   "cell_type": "code",
   "execution_count": null,
   "metadata": {},
   "outputs": [],
   "source": []
  },
  {
   "cell_type": "markdown",
   "metadata": {},
   "source": [
    "# oneMaskScores"
   ]
  },
  {
   "cell_type": "code",
   "execution_count": null,
   "metadata": {},
   "outputs": [],
   "source": [
    "let oneMaskScores = decoded.allLayerOutputs[0].targetAttentionOutput!.attentionScores[0, 0]\n",
    "oneMaskScores.shape"
   ]
  },
  {
   "cell_type": "code",
   "execution_count": null,
   "metadata": {},
   "outputs": [],
   "source": [
    "tensorShow2(oneMaskScores)"
   ]
  },
  {
   "cell_type": "code",
   "execution_count": null,
   "metadata": {},
   "outputs": [],
   "source": [
    "let oneMaskScores2 = oneMaskScores.replacing(with: Tensor(zerosLike: oneMaskScores), where: oneMaskScores .< Tensor<Float>([0.0]))"
   ]
  },
  {
   "cell_type": "code",
   "execution_count": null,
   "metadata": {},
   "outputs": [],
   "source": [
    "tensorShow2(oneMaskScores2)"
   ]
  },
  {
   "cell_type": "code",
   "execution_count": null,
   "metadata": {},
   "outputs": [],
   "source": []
  },
  {
   "cell_type": "markdown",
   "metadata": {},
   "source": [
    "## loss"
   ]
  },
  {
   "cell_type": "code",
   "execution_count": null,
   "metadata": {},
   "outputs": [],
   "source": [
    "let mixtureModelInput = Tensor<Float>(concatenating: decoded.allResults, alongAxis: 2)\n",
    "let transformerOutput = LangMotionTransformerOutput(preds: model.mixtureModel(mixtureModelInput), encoded: encoded, decoded: decoded)"
   ]
  },
  {
   "cell_type": "code",
   "execution_count": null,
   "metadata": {},
   "outputs": [],
   "source": [
    "// Loss function\n",
    "let args = LossArgs(\n",
    "        nb_joints: config.nbJoints,\n",
    "        nb_mixtures: config.nbMixtures,\n",
    "        mixture_regularizer_type: \"None\",  // [\"cv\", \"l2\", \"None\"]\n",
    "        mixture_regularizer: 0.0,\n",
    "        device: device\n",
    ")\n",
    "\n",
    "@differentiable(wrt: y_pred)\n",
    "public func normalMixtureSurrogateLoss2(y_pred: MixtureModelPreds, y_true: LangMotionBatch.Target, args: LossArgs) -> (Tensor<Float>, Tensor<Float>) {\n",
    "    // masking\n",
    "    var y_pred = y_pred.squeezed()\n",
    "    var y_true = y_true.squeezed()\n",
    "    let ids = Tensor<Int32>(rangeFrom: 0, to: Int32(y_true.stops.shape[1]), stride: 1, on: args.device)\n",
    "    let indices = ids.gathering(where: y_true.stops .!= Tensor(1, on: args.device))\n",
    "    y_pred = y_pred.gathering(atIndices: indices, alongAxis: 1)\n",
    "    y_true = y_true.gathering(atIndices: indices, alongAxis: 1)\n",
    "    \n",
    "    let loss = _normalMixtureSurrogateLoss(y_true: y_true, y_pred: y_pred, args: args)\n",
    "    let mean_loss = loss.mean()\n",
    "    return (mean_loss, loss)\n",
    "}"
   ]
  },
  {
   "cell_type": "code",
   "execution_count": null,
   "metadata": {},
   "outputs": [],
   "source": [
    "let (avg_loss, loss) = normalMixtureSurrogateLoss2(y_pred: transformerOutput.preds, y_true: singleBatch.target, args: args)"
   ]
  },
  {
   "cell_type": "code",
   "execution_count": null,
   "metadata": {},
   "outputs": [],
   "source": [
    "print(avg_loss)\n",
    "loss"
   ]
  },
  {
   "cell_type": "code",
   "execution_count": null,
   "metadata": {},
   "outputs": [],
   "source": [
    "plt.plot(loss.scalars)\n",
    "plt.show()"
   ]
  },
  {
   "cell_type": "code",
   "execution_count": null,
   "metadata": {},
   "outputs": [],
   "source": []
  }
 ],
 "metadata": {
  "kernelspec": {
   "display_name": "Swift",
   "language": "swift",
   "name": "swift"
  },
  "language_info": {
   "file_extension": ".swift",
   "mimetype": "text/x-swift",
   "name": "swift",
   "version": ""
  }
 },
 "nbformat": 4,
 "nbformat_minor": 4
}
