{
 "cells": [
  {
   "cell_type": "code",
   "execution_count": null,
   "metadata": {},
   "outputs": [],
   "source": [
    "import Foundation\n",
    "import TensorFlow"
   ]
  },
  {
   "cell_type": "raw",
   "metadata": {},
   "source": [
    "let discreteMotion = Tensor<Int32>(repeating: 1, shape: [1, 5, 47])"
   ]
  },
  {
   "cell_type": "code",
   "execution_count": null,
   "metadata": {},
   "outputs": [],
   "source": [
    "// let ints: [Int32] = (0..<1*5*47).map { (a) -> Int32 in Int32.random(in: 0..<3) }\n",
    "let ints: [Int32] = (0..<1*5).map { (a) -> Int32 in Int32.random(in: 0..<3) }\n",
    "ints.count"
   ]
  },
  {
   "cell_type": "code",
   "execution_count": null,
   "metadata": {},
   "outputs": [],
   "source": [
    "// let discreteMotion = Tensor<Int32>(shape: [1, 5, 47], scalars: ints)\n",
    "let discreteMotion = Tensor<Int32>(shape: [5], scalars: ints)"
   ]
  },
  {
   "cell_type": "code",
   "execution_count": null,
   "metadata": {},
   "outputs": [],
   "source": [
    "let catDistProbs = Tensor<Float>(oneHotAtIndices: Tensor<Int32>(discreteMotion), depth: 3)\n",
    "catDistProbs.shape"
   ]
  },
  {
   "cell_type": "code",
   "execution_count": null,
   "metadata": {},
   "outputs": [],
   "source": [
    "discreteMotion[0..<5]"
   ]
  },
  {
   "cell_type": "code",
   "execution_count": null,
   "metadata": {},
   "outputs": [],
   "source": [
    "catDistProbs[0..<5, 0...]"
   ]
  },
  {
   "cell_type": "code",
   "execution_count": null,
   "metadata": {},
   "outputs": [],
   "source": [
    "// catDistProbs 1x50x47x300\n",
    "// discreteMotion 1x50x47"
   ]
  },
  {
   "cell_type": "code",
   "execution_count": null,
   "metadata": {},
   "outputs": [],
   "source": []
  },
  {
   "cell_type": "code",
   "execution_count": null,
   "metadata": {},
   "outputs": [],
   "source": [
    "// FIXME: reshaping causes mismatch? check it in jupyter notebook"
   ]
  },
  {
   "cell_type": "code",
   "execution_count": null,
   "metadata": {},
   "outputs": [],
   "source": [
    "let sceLoss = softmaxCrossEntropy(logits: catDistProbs, labels: discreteMotion, reduction: _none)\n",
    "print(\"sceLoss.shape: \\(sceLoss.shape)\")\n",
    "print(\"sceLoss: \\(sceLoss)\")"
   ]
  },
  {
   "cell_type": "code",
   "execution_count": null,
   "metadata": {},
   "outputs": [],
   "source": [
    "let xent = (Tensor<Float>(discreteMotion) * log(catDistProbs))"
   ]
  },
  {
   "cell_type": "code",
   "execution_count": null,
   "metadata": {},
   "outputs": [],
   "source": [
    "let labels = discreteMotion.reshaped(to: [-1])\n",
    "let sh = discreteMotion.shape\n",
    "let resultSize =  sh[0] * sh[1]// * sh[2]\n",
    "let logits = catDistProbs.reshaped(to: [resultSize, -1])"
   ]
  },
  {
   "cell_type": "code",
   "execution_count": null,
   "metadata": {},
   "outputs": [],
   "source": []
  },
  {
   "cell_type": "code",
   "execution_count": null,
   "metadata": {},
   "outputs": [],
   "source": [
    "@differentiable\n",
    "func _none(t: Tensor<Float>) -> Tensor<Float> { t }\n",
    "// func _none(t: Tensor<Int32>) -> Tensor<Int32> { t }\n",
    "let sceLoss = softmaxCrossEntropy(logits: logits, labels: labels, reduction: _none)\n",
    "print(\"sceLoss.shape: \\(sceLoss.shape)\")\n",
    "print(\"sceLoss: \\(sceLoss)\")"
   ]
  },
  {
   "cell_type": "code",
   "execution_count": null,
   "metadata": {},
   "outputs": [],
   "source": []
  }
 ],
 "metadata": {
  "kernelspec": {
   "display_name": "Swift",
   "language": "swift",
   "name": "swift"
  },
  "language_info": {
   "file_extension": ".swift",
   "mimetype": "text/x-swift",
   "name": "swift",
   "version": ""
  }
 },
 "nbformat": 4,
 "nbformat_minor": 4
}
