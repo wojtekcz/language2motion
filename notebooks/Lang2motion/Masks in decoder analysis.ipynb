{
 "cells": [
  {
   "cell_type": "markdown",
   "metadata": {},
   "source": [
    "# Masks in decoder - analysis"
   ]
  },
  {
   "cell_type": "markdown",
   "metadata": {},
   "source": [
    "## visualize masks"
   ]
  },
  {
   "cell_type": "code",
   "execution_count": null,
   "metadata": {},
   "outputs": [],
   "source": [
    "// for local development\n",
    "%install-location /notebooks/language2motion.gt/swift-install\n",
    "%install-swiftpm-flags -c release\n",
    "%install '.package(path: \"/notebooks/language2motion.gt\")' Datasets TranslationModels TextModels ModelSupport SummaryWriter LangMotionModels Checkpoints"
   ]
  },
  {
   "cell_type": "code",
   "execution_count": null,
   "metadata": {},
   "outputs": [],
   "source": [
    "import TensorFlow\n",
    "import TextModels\n",
    "import TranslationModels\n",
    "import Foundation\n",
    "import FoundationXML\n",
    "import ModelSupport\n",
    "import Datasets\n",
    "import SummaryWriter\n",
    "import LangMotionModels\n",
    "import Checkpoints\n",
    "import PythonKit"
   ]
  },
  {
   "cell_type": "code",
   "execution_count": null,
   "metadata": {},
   "outputs": [],
   "source": [
    "%include \"EnableIPythonDisplay.swift\"\n",
    "IPythonDisplay.shell.enable_matplotlib(\"inline\")"
   ]
  },
  {
   "cell_type": "code",
   "execution_count": null,
   "metadata": {},
   "outputs": [],
   "source": [
    "let plt = Python.import(\"matplotlib.pyplot\")\n",
    "let np = Python.import(\"numpy\")"
   ]
  },
  {
   "cell_type": "markdown",
   "metadata": {},
   "source": [
    "## Set training params"
   ]
  },
  {
   "cell_type": "code",
   "execution_count": null,
   "metadata": {},
   "outputs": [],
   "source": [
    "let device = Device.defaultTFEager"
   ]
  },
  {
   "cell_type": "code",
   "execution_count": null,
   "metadata": {},
   "outputs": [],
   "source": [
    "let maxTextSequenceLength =  20\n",
    "let maxMotionLength =  100"
   ]
  },
  {
   "cell_type": "code",
   "execution_count": null,
   "metadata": {},
   "outputs": [],
   "source": [
    "let datasetSize: DatasetSize = .midi\n",
    "let batchSize = 2"
   ]
  },
  {
   "cell_type": "code",
   "execution_count": null,
   "metadata": {},
   "outputs": [],
   "source": [
    "let dataURL = URL(fileURLWithPath: \"/notebooks/language2motion.gt/data/\")\n",
    "let motionDatasetURL = dataURL.appendingPathComponent(\"motion_dataset_v3.10Hz.\\(datasetSize.rawValue)plist\")"
   ]
  },
  {
   "cell_type": "code",
   "execution_count": null,
   "metadata": {},
   "outputs": [],
   "source": [
    "/// instantiate text processor\n",
    "let vocabularyURL = dataURL.appendingPathComponent(\"vocab.txt\")\n",
    "let vocabulary: Vocabulary = try! Vocabulary(fromFile: vocabularyURL)\n",
    "let tokenizer: Tokenizer = BERTTokenizer(vocabulary: vocabulary, caseSensitive: false, unknownToken: \"[UNK]\", maxTokenLength: nil)\n",
    "let textProcessor = TextProcessor(vocabulary: vocabulary, tokenizer: tokenizer)\n",
    "\n",
    "/// instantiate model\n",
    "let config = LangMotionTransformerConfig(\n",
    "    vocabSize: vocabulary.count,\n",
    "    nbJoints: 47, // TODO: get value from dataset\n",
    "    nbMixtures: 20,\n",
    "    layerCount: 6,\n",
    "    modelSize: 256,\n",
    "    feedForwardSize: 1024,\n",
    "    headCount: 8,\n",
    "    dropoutProbability:  0.1,\n",
    "    sentenceMaxPositionalLength: 100,\n",
    "    motionMaxPositionalLength: 500,\n",
    "    doMotionDense: false    \n",
    ")\n",
    "\n",
    "let runName = \"run_37\"\n",
    "let epoch = 24\n",
    "\n",
    "let runURL = dataURL.appendingPathComponent(\"runs/Lang2motion/\\(runName)\", isDirectory: true)\n",
    "let checkpointURL = runURL.appendingPathComponent(\"checkpoints\", isDirectory: true)\n",
    "let motionsURL = runURL.appendingPathComponent(\"generated_motions\", isDirectory: true)\n",
    "try! FileManager().createDirectory(at: motionsURL, withIntermediateDirectories: true)\n",
    "\n",
    "let model = LangMotionTransformer(checkpoint: checkpointURL, config: config, name: \"model.e\\(epoch)\")"
   ]
  },
  {
   "cell_type": "code",
   "execution_count": null,
   "metadata": {
    "tags": []
   },
   "outputs": [],
   "source": [
    "/// load dataset\n",
    "print(\"\\nLoading dataset...\")\n",
    "\n",
    "var dataset = try Lang2Motion(\n",
    "    motionDatasetURL: motionDatasetURL,\n",
    "    batchSize: batchSize,\n",
    "    trainTestSplit: 1.0,\n",
    "    demultiplyMotions: false,\n",
    "    device: device\n",
    ") { (motionSample: MotionSample) -> LangMotionBatch in    \n",
    "    let sentence = textProcessor.preprocess(sentence: motionSample.annotations[0], maxTextSequenceLength: maxTextSequenceLength)\n",
    "    let (motionPart, target) = LangMotionBatch.preprocessTargetMotion(sampleID: motionSample.sampleID, motion: motionSample.motion, maxMotionLength: maxMotionLength)\n",
    "    let source = LangMotionBatch.Source(sentence: sentence, motionPart: motionPart)\n",
    "    let singleBatch = LangMotionBatch(source: source, target: target)\n",
    "    return singleBatch\n",
    "}\n",
    "\n",
    "print(\"Dataset acquired.\")"
   ]
  },
  {
   "cell_type": "markdown",
   "metadata": {},
   "source": [
    "# Helpers"
   ]
  },
  {
   "cell_type": "code",
   "execution_count": null,
   "metadata": {},
   "outputs": [],
   "source": [
    "extension LangMotionBatch {\n",
    "    public static func preprocessTargetMotion2(sampleID: Int, motion: Tensor<Float>, maxMotionLength: Int) -> (motionPart: MotionPart, target: Target)\n",
    "    {\n",
    "        let origMotionFramesCount: Tensor<Int32> = Tensor<Int32>([Int32(motion.shape[0])])\n",
    "        let nbJoints = motion.shape[1]\n",
    "        \n",
    "        let zeroMotionFrame = Self.zeroMotionFrame(nbJoints: nbJoints)\n",
    "        \n",
    "        let motion2 = Tensor(concatenating: [zeroMotionFrame, motion], alongAxis: 0)\n",
    "\n",
    "        var (paddedMotion, motionFlag) = motion2.paddedAndCropped(to: maxMotionLength+1)\n",
    "        paddedMotion = paddedMotion.expandingShape(at: 0) // FIXME: move adding batch dimension further down\n",
    "        motionFlag = motionFlag.expandingShape(at: 0) // FIXME: move adding batch dimension further down\n",
    "\n",
    "        // source (motionPart & motion flag)\n",
    "        let rangeExceptLast = 0..<(paddedMotion.shape[1] - 1)\n",
    "        let motionPartTensor = paddedMotion[0..., rangeExceptLast, 0...]\n",
    "\n",
    "        // compute previous motion\n",
    "        let previousMotionPartTensor = Tensor(concatenating: [zeroMotionFrame, motionPartTensor[0, 0..<motionPartTensor.shape[1]-1, 0...]], alongAxis: 0).expandingShape(at: 0)\n",
    "\n",
    "        let motionPartFlag = motionFlag[0..., rangeExceptLast]\n",
    "        let motionPartMask = makeStandardMask(target: motionPartFlag, pad: 0) // FIXME: fix target mask\n",
    "        var motionStartFlag = Tensor<Float>(zeros: [motionPartTensor.shape[1], 1]).expandingShape(at: 0)\n",
    "        motionStartFlag[0, 0, 0] = Tensor(1.0)\n",
    "\n",
    "        let motionPart = MotionPart(motion: motionPartTensor, mask: motionPartMask, previousMotion: previousMotionPartTensor, startFlag: motionStartFlag, motionFlag: motionPartFlag)\n",
    "\n",
    "        // target (motion & stops)\n",
    "        let targetMotion: Tensor<Float> = paddedMotion[0..., 1..., 0...]\n",
    "        let targetMotionFlag = motionFlag[0..., 1...]\n",
    "        let targetStops: Tensor<Float> = 1.0 - Tensor<Float>(targetMotionFlag)\n",
    "\n",
    "        let target = Target(sampleID: Tensor([Int32(sampleID)]), motion: targetMotion, stops: targetStops, origMotionFramesCount: origMotionFramesCount)\n",
    "        return (motionPart: motionPart, target: target)\n",
    "    }\n",
    "}"
   ]
  },
  {
   "cell_type": "code",
   "execution_count": null,
   "metadata": {},
   "outputs": [],
   "source": [
    "func tensorShow(_ tensor: Tensor<Float>, cmapRange: Int = 6) {\n",
    "    plt.figure(figsize: [5, 5])\n",
    "    plt.imshow(tensor.makeNumpyArray(), aspect: \"auto\", cmap: \"Spectral\", vmin: -cmapRange, vmax: cmapRange)\n",
    "    plt.show()\n",
    "}"
   ]
  },
  {
   "cell_type": "code",
   "execution_count": null,
   "metadata": {},
   "outputs": [],
   "source": [
    "extension LangMotionTransformer {\n",
    "    public func getDecoderInput(sourceMask: Tensor<Float>, motionPart: LangMotionBatch.MotionPart, memory: Tensor<Float>) -> DecoderInput<Float> {\n",
    "        var motionPartFeatures: Tensor<Float>\n",
    "        if doMotionDense {\n",
    "            // TODO: kill motionDense layer eventually\n",
    "            let shape = motionPart.motion.shape\n",
    "            let (origBatchSize, numFrames) = (shape[0], shape[1])\n",
    "\n",
    "            let tmpBatchSize = origBatchSize * numFrames\n",
    "            let tmpMotionPart = motionPart.motion.reshaped(to: [tmpBatchSize, nbJoints])\n",
    "\n",
    "            // FIXME: make targetEmbed() work\n",
    "            let tmpMotionPartFeatures = motionDense(tmpMotionPart) // batch size here is origBatchSize*numFrames\n",
    "            motionPartFeatures = tmpMotionPartFeatures.reshaped(to: [origBatchSize, numFrames, self.modelSize])\n",
    "            motionPartFeatures = motionPositionalEncoding(motionPartFeatures)\n",
    "        } else {\n",
    "            // TODO: refactor this out\n",
    "            // assuming modelSize = 256\n",
    "            let shape = motionPart.motion.shape\n",
    "            let (batchSize, numFrames) = (shape[0], shape[1])\n",
    "\n",
    "            // motion positional encoding\n",
    "            var motionPositionalEncodingVector = Tensor<Float>(repeating: 0.0, shape: [batchSize, numFrames, motionPositionalEncodingSize])\n",
    "            motionPositionalEncodingVector = motionPositionalEncoding(motionPositionalEncodingVector)\n",
    "            \n",
    "            // current motion\n",
    "            let currentMotion = motionPart.motion\n",
    "\n",
    "            // compute contextVector\n",
    "            let numTokens = memory.shape[1]\n",
    "            let mask = sourceMask[0..., 0, 0...].expandingShape(at: 2).broadcasted(to: [batchSize, numTokens, modelSize])\n",
    "            let maskedMemory = memory * mask\n",
    "            let meanMemory = maskedMemory.mean(alongAxes: 1).squeezingShape(at: 1) // get mean across steps\n",
    "\n",
    "            let contextVector = contextDense(meanMemory).expandingShape(at: 1).broadcasted(to: [batchSize, numFrames, contextSize])\n",
    "\n",
    "            // previousMotion\n",
    "            let previousMotion = motionPart.previousMotion\n",
    "\n",
    "            // compute padding\n",
    "            let motionFramePadding = Tensor<Float>(repeating: 0.0, shape: [batchSize, numFrames, modelSize - (1+motionPositionalEncodingSize+nbJoints*2+contextSize)])\n",
    "\n",
    "            let tensorStack = [motionPart.startFlag, motionPositionalEncodingVector, currentMotion, previousMotion, contextVector, motionFramePadding]\n",
    "            let tmpMotionPartFeatures = Tensor<Float>(concatenating: tensorStack, alongAxis: 2)\n",
    "\n",
    "            // FIXME: preserve following?\n",
    "            // tile motion along joints dimension\n",
    "            // let multiplyBy = modelSize/nbJoints+1\n",
    "            // let tmpMotionPartFeatures = motionPart.motion.tiled(multiples: [1, 1, multiplyBy])[0..., 0..., 0..<modelSize]\n",
    "            // motionPartFeatures = motionPositionalEncoding(tmpMotionPartFeatures)\n",
    "            motionPartFeatures = tmpMotionPartFeatures\n",
    "        }\n",
    "        let decoderInput = DecoderInput(sequence: motionPartFeatures, sourceMask: sourceMask, targetMask: motionPart.mask, memory: memory)\n",
    "        return decoderInput\n",
    "    }\n",
    "}"
   ]
  },
  {
   "cell_type": "markdown",
   "metadata": {},
   "source": [
    "## TODO"
   ]
  },
  {
   "cell_type": "code",
   "execution_count": null,
   "metadata": {},
   "outputs": [],
   "source": [
    "// TODO: visualize data:\n",
    "// - mask(s)\n",
    "// - signals that go through the decoder"
   ]
  },
  {
   "cell_type": "markdown",
   "metadata": {},
   "source": [
    "## Single batch"
   ]
  },
  {
   "cell_type": "code",
   "execution_count": null,
   "metadata": {},
   "outputs": [],
   "source": [
    "let motionSample = dataset.motionSamples[0]\n",
    "print(\"sampleID: \\(motionSample.sampleID)\")\n",
    "print(motionSample.description)\n",
    "print(motionSample.annotations)"
   ]
  },
  {
   "cell_type": "code",
   "execution_count": null,
   "metadata": {},
   "outputs": [],
   "source": [
    "let s = \"A person plays the guitar, dances and kicks, then kneels down.\""
   ]
  },
  {
   "cell_type": "code",
   "execution_count": null,
   "metadata": {},
   "outputs": [],
   "source": [
    "// let sentence = textProcessor.preprocess(sentence: s, maxTextSequenceLength: maxTextSequenceLength)\n",
    "let sentence = textProcessor.preprocess(sentence: motionSample.annotations[0], maxTextSequenceLength: maxTextSequenceLength)\n",
    "let (motionPart, target) = LangMotionBatch.preprocessTargetMotion2(sampleID: motionSample.sampleID, motion: motionSample.motion, maxMotionLength: maxMotionLength)\n",
    "let source = LangMotionBatch.Source(sentence: sentence, motionPart: motionPart)\n",
    "let singleBatch = LangMotionBatch(source: source, target: target)"
   ]
  },
  {
   "cell_type": "code",
   "execution_count": null,
   "metadata": {},
   "outputs": [],
   "source": [
    "let trInput = singleBatch.source"
   ]
  },
  {
   "cell_type": "markdown",
   "metadata": {},
   "source": [
    "# encoder"
   ]
  },
  {
   "cell_type": "code",
   "execution_count": null,
   "metadata": {},
   "outputs": [],
   "source": [
    "trInput.sentence.printSentence()"
   ]
  },
  {
   "cell_type": "code",
   "execution_count": null,
   "metadata": {},
   "outputs": [],
   "source": [
    "let encodedMemory = model.encode(input: trInput.sentence)\n",
    "encodedMemory.shape"
   ]
  },
  {
   "cell_type": "markdown",
   "metadata": {},
   "source": [
    "# decode"
   ]
  },
  {
   "cell_type": "code",
   "execution_count": null,
   "metadata": {},
   "outputs": [],
   "source": [
    "let decoded = model.decode(sourceMask: trInput.sourceAttentionMask, motionPart: trInput.motionPart, memory: encodedMemory)\n",
    "print(decoded.allOutputs.count)\n",
    "decoded.lastLayerOutput.shape"
   ]
  },
  {
   "cell_type": "markdown",
   "metadata": {},
   "source": [
    "# decoder deep dive"
   ]
  },
  {
   "cell_type": "code",
   "execution_count": null,
   "metadata": {},
   "outputs": [],
   "source": [
    "extension TransformerDecoderLayer {\n",
    "    @differentiable\n",
    "    public func callAsFunction2(_ input: DecoderInput<Float>) -> Tensor<Float> {\n",
    "        // SR-11882\n",
    "        // we have to pass the input as a param in the Sublayer input because we still need to diferentiate\n",
    "        // targetMask, memory, and sourceMask\n",
    "        let selfNoDerivative = withoutDerivative(at: self)\n",
    "        let batchSize = withoutDerivative(at: input.batchSize)\n",
    "        \n",
    "        var output = input.sequence\n",
    "        \n",
    "        \n",
    "        output = self.sublayers[0].decoderForward(.init(sequence: output, decoderContext: input, activation: {\n",
    "            selfNoDerivative.selfAttention(.init(source: $0,\n",
    "                                                 target: $0,\n",
    "                                                 mask: $1.targetMask,\n",
    "                                                 batchSize: batchSize))\n",
    "        }))\n",
    "        output = self.sublayers[1].decoderForward(.init(sequence: output, decoderContext: input, activation: {\n",
    "            print(\"\\nsource attention\")\n",
    "            print(\"  source.shape: \\($0.shape)\")\n",
    "            print(\"  target.shape: \\($1.memory.shape)\")\n",
    "            print(\"  mask.shape: \\($1.sourceMask.shape)\")\n",
    "            return selfNoDerivative.sourceAttention(.init(source: $0,\n",
    "                                                   target: $1.memory,\n",
    "                                                   mask: $1.sourceMask,\n",
    "                                                   batchSize: batchSize))\n",
    "        }))\n",
    "        output = self.sublayers[2].decoderForward(.init(sequence: output, decoderContext: input, activation: {(result, _) in\n",
    "            selfNoDerivative.feedForward(result)\n",
    "        }))\n",
    "        return output\n",
    "    }\n",
    "}"
   ]
  },
  {
   "cell_type": "code",
   "execution_count": null,
   "metadata": {},
   "outputs": [],
   "source": [
    "extension Decoder {\n",
    "    @differentiable\n",
    "    public func callAsFunction2(_ input: DecoderInput<Float>) -> DecoderOutput<Float> {\n",
    "        var allOutputs: [Tensor<Float>] = []\n",
    "        var transformerInput = input.sequence\n",
    "        let memoryInput = input.memory\n",
    "        \n",
    "        for layerIndex in 0..<(withoutDerivative(at: layers) { $0.count }) {\n",
    "            print(\"\\(layerIndex)\")\n",
    "            print(\"sequence:\\(transformerInput.shape), sourceMask:\\(input.sourceMask.shape), targetMask:\\(input.targetMask.shape), memory:\\(memoryInput.shape)\")\n",
    "            let layerOutput = layers[layerIndex].callAsFunction2(DecoderInput(\n",
    "                sequence: transformerInput,\n",
    "                sourceMask: input.sourceMask,\n",
    "                targetMask: input.targetMask,\n",
    "                memory: memoryInput\n",
    "            ))\n",
    "            allOutputs.append(layerOutput)\n",
    "            transformerInput = layerOutput\n",
    "        }\n",
    "        \n",
    "        return DecoderOutput<Float>(lastLayerOutput: transformerInput, allOutputs: allOutputs)\n",
    "    }\n",
    "}"
   ]
  },
  {
   "cell_type": "code",
   "execution_count": null,
   "metadata": {},
   "outputs": [],
   "source": [
    "trInput.sentence.mask"
   ]
  },
  {
   "cell_type": "raw",
   "metadata": {},
   "source": [
    "let sentenceMask2 = trInput.sentence.mask.broadcasted(toShape: [1, 100, 20])\n",
    "print(sentenceMask2.shape)\n",
    "sentenceMask2"
   ]
  },
  {
   "cell_type": "raw",
   "metadata": {},
   "source": [
    "print(type(of:sentenceMask2))"
   ]
  },
  {
   "cell_type": "code",
   "execution_count": null,
   "metadata": {},
   "outputs": [],
   "source": [
    "let decoderInput = model.getDecoderInput(sourceMask: trInput.sourceAttentionMask, motionPart: trInput.motionPart, memory: encodedMemory)"
   ]
  },
  {
   "cell_type": "code",
   "execution_count": null,
   "metadata": {},
   "outputs": [],
   "source": [
    "let decoderOuptut = model.decoder.callAsFunction2(decoderInput)"
   ]
  },
  {
   "cell_type": "code",
   "execution_count": null,
   "metadata": {},
   "outputs": [],
   "source": []
  },
  {
   "cell_type": "markdown",
   "metadata": {},
   "source": [
    "# create source attention mask of [bs x maxMotionLength x maxTextSequenceLength] dimensions"
   ]
  },
  {
   "cell_type": "code",
   "execution_count": null,
   "metadata": {},
   "outputs": [],
   "source": []
  },
  {
   "cell_type": "code",
   "execution_count": null,
   "metadata": {},
   "outputs": [],
   "source": [
    "sentence"
   ]
  },
  {
   "cell_type": "code",
   "execution_count": null,
   "metadata": {},
   "outputs": [],
   "source": [
    "motionPart.printMotionPart()"
   ]
  },
  {
   "cell_type": "code",
   "execution_count": null,
   "metadata": {},
   "outputs": [],
   "source": [
    "target.printTarget()"
   ]
  },
  {
   "cell_type": "code",
   "execution_count": null,
   "metadata": {},
   "outputs": [],
   "source": [
    "func createSourceAttentionMask(sourceSequenceLength: Int, targetSequenceLength: Int, maxSourceSequenceLength: Int, maxTargetSequenceLength: Int) -> Tensor<Float> {\n",
    "    var mask = Tensor<Float>(zeros: [maxTargetSequenceLength, maxSourceSequenceLength])\n",
    "    let ones = Tensor<Float>(ones: [targetSequenceLength, sourceSequenceLength])\n",
    "    mask[0..<ones.shape[0], 0..<ones.shape[1]] = ones\n",
    "    return mask\n",
    "}"
   ]
  },
  {
   "cell_type": "code",
   "execution_count": null,
   "metadata": {},
   "outputs": [],
   "source": [
    "let mask = createSourceAttentionMask(sourceSequenceLength: 9, targetSequenceLength: 55, maxSourceSequenceLength: 20, maxTargetSequenceLength: 100)"
   ]
  },
  {
   "cell_type": "code",
   "execution_count": null,
   "metadata": {},
   "outputs": [],
   "source": [
    "mask"
   ]
  },
  {
   "cell_type": "code",
   "execution_count": null,
   "metadata": {},
   "outputs": [],
   "source": [
    "tensorShow(mask)"
   ]
  },
  {
   "cell_type": "code",
   "execution_count": null,
   "metadata": {},
   "outputs": [],
   "source": [
    "// Where to get values from:\n",
    "// sourceSequenceLength\n",
    "// targetSequenceLength"
   ]
  },
  {
   "cell_type": "markdown",
   "metadata": {},
   "source": [
    "## create source attention mask from two 1-dim flags"
   ]
  },
  {
   "cell_type": "code",
   "execution_count": null,
   "metadata": {},
   "outputs": [],
   "source": [
    "let sentenceMask = singleBatch.source.sentence.mask.squeezingShape(at: 1)\n",
    "sentenceMask"
   ]
  },
  {
   "cell_type": "code",
   "execution_count": null,
   "metadata": {},
   "outputs": [],
   "source": [
    "let motionFlag = Tensor<Float>(singleBatch.source.motionPart.motionFlag)\n",
    "motionFlag.shape"
   ]
  },
  {
   "cell_type": "code",
   "execution_count": null,
   "metadata": {},
   "outputs": [],
   "source": [
    "let sourceAttentionMask = sentenceMask * motionFlag.transposed()\n",
    "sourceAttentionMask"
   ]
  },
  {
   "cell_type": "code",
   "execution_count": null,
   "metadata": {},
   "outputs": [],
   "source": [
    "tensorShow(sourceAttentionMask)"
   ]
  },
  {
   "cell_type": "raw",
   "metadata": {},
   "source": [
    "let sentenceMask = singleBatch.source.sentence.mask.squeezingShape(at: 1)\n",
    "let motionFlag = Tensor<Float>(singleBatch.source.motionPart.motionFlag)\n",
    "let sourceAttentionMask = sentenceMask * motionFlag.transposed()"
   ]
  },
  {
   "cell_type": "code",
   "execution_count": null,
   "metadata": {},
   "outputs": [],
   "source": []
  },
  {
   "cell_type": "markdown",
   "metadata": {},
   "source": [
    "### check mask for batch"
   ]
  },
  {
   "cell_type": "code",
   "execution_count": null,
   "metadata": {},
   "outputs": [],
   "source": [
    "let motionSample2 = dataset.motionSamples[1]\n",
    "print(\"sampleID: \\(motionSample2.sampleID)\")\n",
    "print(motionSample2.description)\n",
    "print(motionSample2.annotations)"
   ]
  },
  {
   "cell_type": "code",
   "execution_count": null,
   "metadata": {},
   "outputs": [],
   "source": [
    "let sentence2 = textProcessor.preprocess(sentence: motionSample2.annotations[0], maxTextSequenceLength: maxTextSequenceLength)\n",
    "let (motionPart2, target2) = LangMotionBatch.preprocessTargetMotion2(sampleID: motionSample2.sampleID, motion: motionSample2.motion, maxMotionLength: maxMotionLength)\n",
    "let source2 = LangMotionBatch.Source(sentence: sentence2, motionPart: motionPart2)\n",
    "let singleBatch2 = LangMotionBatch(source: source2, target: target2)"
   ]
  },
  {
   "cell_type": "code",
   "execution_count": null,
   "metadata": {},
   "outputs": [],
   "source": [
    "let batch = LangMotionBatch.reduceDataBatches([singleBatch, singleBatch2])"
   ]
  },
  {
   "cell_type": "code",
   "execution_count": null,
   "metadata": {},
   "outputs": [],
   "source": [
    "let sourceAttentionMask = batch.data.sourceAttentionMask\n",
    "sourceAttentionMask.shape"
   ]
  },
  {
   "cell_type": "code",
   "execution_count": null,
   "metadata": {},
   "outputs": [],
   "source": [
    "tensorShow(sourceAttentionMask[0])"
   ]
  },
  {
   "cell_type": "code",
   "execution_count": null,
   "metadata": {},
   "outputs": [],
   "source": [
    "tensorShow(sourceAttentionMask[1])"
   ]
  },
  {
   "cell_type": "code",
   "execution_count": null,
   "metadata": {},
   "outputs": [],
   "source": []
  }
 ],
 "metadata": {
  "kernelspec": {
   "display_name": "Swift",
   "language": "swift",
   "name": "swift"
  },
  "language_info": {
   "file_extension": ".swift",
   "mimetype": "text/x-swift",
   "name": "swift",
   "version": ""
  }
 },
 "nbformat": 4,
 "nbformat_minor": 4
}
