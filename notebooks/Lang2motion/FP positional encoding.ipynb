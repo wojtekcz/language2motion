{
 "cells": [
  {
   "cell_type": "markdown",
   "metadata": {},
   "source": [
    "# Positional Encoding"
   ]
  },
  {
   "cell_type": "code",
   "execution_count": null,
   "metadata": {},
   "outputs": [],
   "source": [
    "let batchSize = 1\n",
    "let numFrames = 100\n",
    "let modelSize = 16\n",
    "let motionMaxPositionalLength = 500"
   ]
  },
  {
   "cell_type": "code",
   "execution_count": null,
   "metadata": {},
   "outputs": [],
   "source": [
    "var tmpMotionPositionalEncodingVector = Tensor<Float>(repeating: 0.0, shape: [batchSize, numFrames, modelSize])"
   ]
  },
  {
   "cell_type": "code",
   "execution_count": null,
   "metadata": {},
   "outputs": [],
   "source": [
    "var motionPositionalEncoding = PositionalEncoding(size: modelSize, dropoutProbability: config.dropoutProbability, maxLength: motionMaxPositionalLength)"
   ]
  },
  {
   "cell_type": "code",
   "execution_count": null,
   "metadata": {},
   "outputs": [],
   "source": [
    "tmpMotionPositionalEncodingVector = motionPositionalEncoding(tmpMotionPositionalEncodingVector)"
   ]
  },
  {
   "cell_type": "code",
   "execution_count": null,
   "metadata": {},
   "outputs": [],
   "source": [
    "tmpMotionPositionalEncodingVector.shape"
   ]
  },
  {
   "cell_type": "code",
   "execution_count": null,
   "metadata": {},
   "outputs": [],
   "source": [
    "(tmpMotionPositionalEncodingVector.min(), tmpMotionPositionalEncodingVector.max())"
   ]
  },
  {
   "cell_type": "code",
   "execution_count": null,
   "metadata": {},
   "outputs": [],
   "source": [
    "func tensorShow2(_ tensor: Tensor<Float>, cmapRange: Float = 6.0) {\n",
    "//     plt.figure(figsize: [10, 4])\n",
    "//     aspect: \"auto\",\n",
    "    plt.imshow(tensor.makeNumpyArray(), cmap: \"Spectral\", vmin: -cmapRange, vmax: cmapRange)\n",
    "    plt.show()\n",
    "}\n",
    "tensorShow2(tmpMotionPositionalEncodingVector.squeezingShape(at: 0).transposed(), cmapRange: 1.5)"
   ]
  },
  {
   "cell_type": "code",
   "execution_count": null,
   "metadata": {},
   "outputs": [],
   "source": []
  }
 ],
 "metadata": {
  "kernelspec": {
   "display_name": "Swift",
   "language": "swift",
   "name": "swift"
  },
  "language_info": {
   "file_extension": ".swift",
   "mimetype": "text/x-swift",
   "name": "swift",
   "version": ""
  }
 },
 "nbformat": 4,
 "nbformat_minor": 4
}
