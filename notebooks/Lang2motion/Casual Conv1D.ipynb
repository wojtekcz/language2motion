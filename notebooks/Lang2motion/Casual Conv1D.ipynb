{
 "cells": [
  {
   "cell_type": "markdown",
   "metadata": {},
   "source": [
    "# Casual Conv1D"
   ]
  },
  {
   "cell_type": "code",
   "execution_count": null,
   "metadata": {},
   "outputs": [],
   "source": [
    "import TensorFlow"
   ]
  },
  {
   "cell_type": "code",
   "execution_count": null,
   "metadata": {},
   "outputs": [],
   "source": []
  },
  {
   "cell_type": "code",
   "execution_count": null,
   "metadata": {},
   "outputs": [],
   "source": [
    "// bs=1 x timesteps=5 x channels=2\n",
    "let t1 = Tensor<Float>([[[1.1, 1.2, 1.3, 1.4, 1.1, 0.0, 0.0, 0.0], [2.1, 2.2, 2.3, 2.4, 2.5, 0.0, 0.0, 0.0]]]).transposed(permutation: [0, 2, 1])\n",
    "print(t1.shape)\n",
    "t1"
   ]
  },
  {
   "cell_type": "code",
   "execution_count": null,
   "metadata": {},
   "outputs": [],
   "source": [
    "let kernel_size = 3\n",
    "let decoderDepth = 2\n",
    "// TODO: take into account kernel_size oddity\n",
    "let pad_after = (kernel_size-1)/2\n",
    "pad_after\n",
    "// let decConv1D = Conv1D<Float>(filterShape: (kernel_size, decoderDepth, decoderDepth), stride: 1, padding: .same, activation: relu)"
   ]
  },
  {
   "cell_type": "code",
   "execution_count": null,
   "metadata": {},
   "outputs": [],
   "source": [
    "let filterConv1D = Tensor<Float>(ones: [kernel_size, decoderDepth, decoderDepth])\n",
    "let decConv1D = Conv1D<Float>(filter: filterConv1D, activation: relu, stride: 1, padding: .same)"
   ]
  },
  {
   "cell_type": "code",
   "execution_count": null,
   "metadata": {},
   "outputs": [],
   "source": [
    "let out = decConv1D(t1)\n",
    "print(out.shape)\n",
    "out"
   ]
  },
  {
   "cell_type": "code",
   "execution_count": null,
   "metadata": {},
   "outputs": [],
   "source": [
    "let t2 = t1.padded(forSizes: [(before: 0, after: 0), (before: 0, after: pad_after), (before: 0, after: 0)])[0..., pad_after..., 0...]\n",
    "t2"
   ]
  },
  {
   "cell_type": "code",
   "execution_count": null,
   "metadata": {},
   "outputs": [],
   "source": [
    "let out = decConv1D(t2)\n",
    "print(out.shape)\n",
    "out"
   ]
  },
  {
   "cell_type": "code",
   "execution_count": null,
   "metadata": {},
   "outputs": [],
   "source": []
  }
 ],
 "metadata": {
  "kernelspec": {
   "display_name": "Swift",
   "language": "swift",
   "name": "swift"
  },
  "language_info": {
   "file_extension": ".swift",
   "mimetype": "text/x-swift",
   "name": "swift",
   "version": ""
  }
 },
 "nbformat": 4,
 "nbformat_minor": 4
}
