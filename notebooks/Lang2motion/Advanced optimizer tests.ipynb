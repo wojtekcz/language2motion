{
 "cells": [
  {
   "cell_type": "markdown",
   "metadata": {},
   "source": [
    "# Advanced optimizer tests"
   ]
  },
  {
   "cell_type": "code",
   "execution_count": null,
   "metadata": {},
   "outputs": [],
   "source": [
    "// for local development\n",
    "%install-location /notebooks/language2motion.gt/swift-install\n",
    "%install-swiftpm-flags -c release\n",
    "%install '.package(path: \"/notebooks/language2motion.gt\")' TextModels"
   ]
  },
  {
   "cell_type": "code",
   "execution_count": null,
   "metadata": {},
   "outputs": [],
   "source": [
    "import Foundation\n",
    "import TensorFlow\n",
    "import TextModels\n",
    "import x10_optimizers_optimizer\n",
    "import PythonKit"
   ]
  },
  {
   "cell_type": "code",
   "execution_count": null,
   "metadata": {},
   "outputs": [],
   "source": [
    "%include \"EnableIPythonDisplay.swift\"\n",
    "IPythonDisplay.shell.enable_matplotlib(\"inline\")"
   ]
  },
  {
   "cell_type": "code",
   "execution_count": null,
   "metadata": {},
   "outputs": [],
   "source": [
    "let plt = Python.import(\"matplotlib.pyplot\")"
   ]
  },
  {
   "cell_type": "code",
   "execution_count": null,
   "metadata": {},
   "outputs": [],
   "source": [
    "var model = Dense<Float>(inputSize: 1000, outputSize: 100)"
   ]
  },
  {
   "cell_type": "code",
   "execution_count": null,
   "metadata": {},
   "outputs": [],
   "source": [
    "let epochCount = 10\n",
    "let stepsPerEpoch = 202 // function of training set size and batching configuration\n",
    "let peakLearningRate: Float = 1e-3"
   ]
  },
  {
   "cell_type": "code",
   "execution_count": null,
   "metadata": {},
   "outputs": [],
   "source": [
    "let beta1: Float = 0.9\n",
    "let beta2: Float = 0.995\n",
    "let useBiasCorrection = true\n",
    "\n",
    "var optimizer = x10_optimizers_optimizer.GeneralOptimizer(\n",
    "    for: model,\n",
    "    TensorVisitorPlan(model.differentiableVectorView),\n",
    "    defaultOptimizer: makeWeightDecayedAdam(\n",
    "      learningRate: peakLearningRate,\n",
    "      beta1: beta1,\n",
    "      beta2: beta2\n",
    "    )\n",
    ")\n",
    "\n",
    "var scheduledLearningRate = LinearlyDecayedParameter(\n",
    "  baseParameter: LinearlyWarmedUpParameter(\n",
    "      baseParameter: FixedParameter<Float>(peakLearningRate),\n",
    "      warmUpStepCount: 20,\n",
    "      warmUpOffset: 0),\n",
    "  slope: -(peakLearningRate / Float(stepsPerEpoch * epochCount)),  // The LR decays linearly to zero.\n",
    "  startStep: 10\n",
    ")"
   ]
  },
  {
   "cell_type": "code",
   "execution_count": null,
   "metadata": {},
   "outputs": [],
   "source": [
    "var steps = [Int]()\n",
    "var lrs = [Float]()\n",
    "var epochs = [Int]()\n",
    "\n",
    "for epoch in 0..<epochCount {\n",
    "    for epoch_step in 0..<stepsPerEpoch {\n",
    "        // print(\"epoch: \\(epoch), epoch_step: \\(epoch_step)\")\n",
    "        let step = optimizer.step + 1 // for scheduled rates and bias correction, steps start at 1\n",
    "        optimizer.learningRate = scheduledLearningRate(forStep: UInt64(step))\n",
    "        if useBiasCorrection {\n",
    "          let f_step = Float(step)\n",
    "          optimizer.learningRate *= sqrtf(1 - powf(beta2, f_step)) / (1 - powf(beta1, f_step))\n",
    "        }        \n",
    "        steps.append(step)\n",
    "        lrs.append(optimizer.learningRate)\n",
    "        epochs.append(epoch)\n",
    "\n",
    "        optimizer.step += 1\n",
    "    }\n",
    "}"
   ]
  },
  {
   "cell_type": "code",
   "execution_count": null,
   "metadata": {},
   "outputs": [],
   "source": [
    "plt.figure(figsize: [15, 10])\n",
    "\n",
    "plt.plot(steps, lrs)\n",
    "\n",
    "plt.xlabel(\"Step\")\n",
    "plt.ylabel(\"Learning rate\")\n",
    "plt.title(\"ScheduledLearningRate\")\n",
    "\n",
    "plt.show()"
   ]
  },
  {
   "cell_type": "code",
   "execution_count": null,
   "metadata": {},
   "outputs": [],
   "source": []
  },
  {
   "cell_type": "code",
   "execution_count": null,
   "metadata": {},
   "outputs": [],
   "source": []
  }
 ],
 "metadata": {
  "kernelspec": {
   "display_name": "Swift",
   "language": "swift",
   "name": "swift"
  },
  "language_info": {
   "file_extension": ".swift",
   "mimetype": "text/x-swift",
   "name": "swift",
   "version": ""
  }
 },
 "nbformat": 4,
 "nbformat_minor": 4
}
