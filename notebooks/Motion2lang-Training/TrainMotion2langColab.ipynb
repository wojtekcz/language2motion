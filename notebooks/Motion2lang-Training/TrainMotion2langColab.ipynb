{
  "nbformat": 4,
  "nbformat_minor": 0,
  "metadata": {
    "kernelspec": {
      "display_name": "Swift",
      "language": "swift",
      "name": "swift"
    },
    "language_info": {
      "file_extension": ".swift",
      "mimetype": "text/x-swift",
      "name": "swift",
      "version": ""
    },
    "colab": {
      "name": "TrainMotion2langColab.ipynb",
      "provenance": [],
      "collapsed_sections": []
    },
    "accelerator": "GPU"
  },
  "cells": [
    {
      "cell_type": "markdown",
      "metadata": {
        "id": "VOiO12PtN-LD",
        "colab_type": "text"
      },
      "source": [
        "# Train Transformer for the Motion2lang task"
      ]
    },
    {
      "cell_type": "markdown",
      "metadata": {
        "id": "_HbPDTy-Zd7P",
        "colab_type": "text"
      },
      "source": [
        "## Get sources"
      ]
    },
    {
      "cell_type": "code",
      "metadata": {
        "id": "KiEwgnAxOYNH",
        "colab_type": "code",
        "colab": {}
      },
      "source": [
        "// for colab\n",
        "%install-location $cwd/swift-install\n",
        "%install-swiftpm-flags -c release\n",
        "%install '.package(url: \"https://github.com/wojtekcz/language2motion.git\", .branch(\"master\"))' Datasets TranslationModels TextModels ModelSupport SummaryWriter MotionLangModels TrainingLoop"
      ],
      "execution_count": null,
      "outputs": []
    },
    {
      "cell_type": "markdown",
      "metadata": {
        "id": "5Tt1Ec9MZVKh",
        "colab_type": "text"
      },
      "source": [
        "## What's the GPU?"
      ]
    },
    {
      "cell_type": "code",
      "metadata": {
        "id": "kpxIOsZLRUTF",
        "colab_type": "code",
        "colab": {}
      },
      "source": [
        "import Foundation\n",
        "\n",
        "func shell(_ command: String) -> String {\n",
        "    let task = Process()\n",
        "    let pipe = Pipe()\n",
        "\n",
        "    task.standardOutput = pipe\n",
        "    task.arguments = [\"-c\", command]\n",
        "    task.launchPath = \"/bin/bash\"\n",
        "    task.launch()\n",
        "\n",
        "    let data = pipe.fileHandleForReading.readDataToEndOfFile()\n",
        "    return String(data: data, encoding: .utf8)!\n",
        "}\n",
        "\n",
        "func sh(_ command: String) {\n",
        "    print(shell(command))\n",
        "}\n",
        "\n",
        "sh(\"\"\"\n",
        "export PATH=\"$PATH:/opt/bin:/swift/toolchain/usr/bin\"\n",
        "export LD_LIBRARY_PATH=\"/usr/lib64-nvidia:$LD_LIBRARY_PATH\"\n",
        "nvidia-smi\n",
        "\"\"\")"
      ],
      "execution_count": null,
      "outputs": []
    },
    {
      "cell_type": "markdown",
      "metadata": {
        "id": "3RBbb7v_5uRB",
        "colab_type": "text"
      },
      "source": [
        "## run colab ssh server"
      ]
    },
    {
      "cell_type": "code",
      "metadata": {
        "id": "uNs2n_tN5u-5",
        "colab_type": "code",
        "colab": {}
      },
      "source": [
        "// run colab ssh server\n",
        "// after it finishes, interrupt cell execution\n",
        "sh(\"bash <(curl -s https://raw.githubusercontent.com/wojtekcz/language2motion/master/notebooks/Colab/swift_colab_ssh_server.sh)\")"
      ],
      "execution_count": null,
      "outputs": []
    },
    {
      "cell_type": "code",
      "metadata": {
        "id": "aKjYwqGN5vZz",
        "colab_type": "code",
        "colab": {}
      },
      "source": [
        "sh(\"ps ax|grep ssh\")"
      ],
      "execution_count": null,
      "outputs": []
    },
    {
      "cell_type": "code",
      "metadata": {
        "id": "w3_UstW_5vvs",
        "colab_type": "code",
        "colab": {}
      },
      "source": [
        "sh(\"kill -9 2211\")  // enter ssh pid to kill the tunnel"
      ],
      "execution_count": null,
      "outputs": []
    },
    {
      "cell_type": "markdown",
      "metadata": {
        "id": "9n_bsrG25hLC",
        "colab_type": "text"
      },
      "source": [
        "## Imports"
      ]
    },
    {
      "cell_type": "code",
      "metadata": {
        "id": "3YCslW2KN-LJ",
        "colab_type": "code",
        "colab": {}
      },
      "source": [
        "import TensorFlow\n",
        "import TextModels\n",
        "import TranslationModels\n",
        "import Foundation\n",
        "import ModelSupport\n",
        "import Datasets\n",
        "import SummaryWriter\n",
        "import MotionLangModels\n",
        "import TrainingLoop\n",
        "import x10_optimizers_optimizer"
      ],
      "execution_count": null,
      "outputs": []
    },
    {
      "cell_type": "code",
      "metadata": {
        "id": "mAeuaNNS5-hM",
        "colab_type": "code",
        "colab": {}
      },
      "source": [
        "import PythonKit\n",
        "\n",
        "%include \"EnableIPythonDisplay.swift\"\n",
        "IPythonDisplay.shell.enable_matplotlib(\"inline\")"
      ],
      "execution_count": null,
      "outputs": []
    },
    {
      "cell_type": "markdown",
      "metadata": {
        "id": "crE05WTMZNW5",
        "colab_type": "text"
      },
      "source": [
        "## Download data"
      ]
    },
    {
      "cell_type": "code",
      "metadata": {
        "id": "bk7QcW_swN-4",
        "colab_type": "code",
        "colab": {}
      },
      "source": [
        "let dataset_name = \"motion_dataset_v3.10Hz.multi\""
      ],
      "execution_count": null,
      "outputs": []
    },
    {
      "cell_type": "code",
      "metadata": {
        "id": "9IDtBlXnRaT3",
        "colab_type": "code",
        "colab": {}
      },
      "source": [
        "sh(\"mkdir -p /content/data/\")\n",
        "sh(\"\"\"\n",
        "cd /content/data/\n",
        "wget -nv --show-progress -N https://github.com/wojtekcz/language2motion/releases/download/v0.3.0/\\(dataset_name).tgz\n",
        "wget -nv -N https://github.com/wojtekcz/language2motion/releases/download/v0.1.0/vocab.txt\n",
        "tar xzvf \\(dataset_name).tgz --skip-old-files\n",
        "\"\"\")"
      ],
      "execution_count": null,
      "outputs": []
    },
    {
      "cell_type": "markdown",
      "metadata": {
        "id": "qbmXosmTN-LM",
        "colab_type": "text"
      },
      "source": [
        "## Set training params"
      ]
    },
    {
      "cell_type": "code",
      "metadata": {
        "id": "sum7wmL6N-LM",
        "colab_type": "code",
        "colab": {}
      },
      "source": [
        "let runName = \"run_5\"\n",
        "let batchSize = 300\n",
        "let maxMotionLength = 50\n",
        "let maxTextSequenceLength = 40\n",
        "let nEpochs = 5\n",
        "let peakLearningRate: Float = 5e-4\n",
        "\n",
        "let stepsPerEpoch = 168/batchSize*2 // function of training set size and batching configuration\n",
        "\n",
        "let beta1: Float = 0.9\n",
        "let beta2: Float = 0.999\n",
        "let useBiasCorrection = false\n",
        "\n",
        "let datasetSize: DatasetSize = .multi_full\n",
        "// let datasetSize: DatasetSize = .micro\n",
        "\n",
        "print(\"runName: \\(runName)\")\n",
        "print(\"batchSize: \\(batchSize)\")\n",
        "print(\"maxMotionLength: \\(maxMotionLength)\")\n",
        "print(\"maxTextSequenceLength: \\(maxTextSequenceLength)\")\n",
        "print(\"nEpochs: \\(nEpochs)\")\n",
        "print(\"peakLearningRate: \\(peakLearningRate)\")\n",
        "print(\"datasetSize: \\(datasetSize)\")\n",
        "print(\"stepsPerEpoch: \\(stepsPerEpoch)\")\n",
        "\n",
        "let dataURL = URL(fileURLWithPath: \"/content/data/\")\n",
        "let motionDatasetURL = dataURL.appendingPathComponent(\"motion_dataset_v3.10Hz.\\(datasetSize.rawValue)plist\")\n",
        "\n",
        "let logdirURL = dataURL.appendingPathComponent(\"runs/Motion2lang/\\(runName)\", isDirectory: true)\n",
        "let checkpointURL = logdirURL.appendingPathComponent(\"checkpoints\", isDirectory: true)"
      ],
      "execution_count": null,
      "outputs": []
    },
    {
      "cell_type": "markdown",
      "metadata": {
        "id": "sHyhFi49N-LP",
        "colab_type": "text"
      },
      "source": [
        "## Select eager or X10 backend"
      ]
    },
    {
      "cell_type": "code",
      "metadata": {
        "id": "bUyfo7oZN-LP",
        "colab_type": "code",
        "colab": {}
      },
      "source": [
        "let device = Device.defaultXLA\n",
        "// let device = Device.defaultTFEager\n",
        "print(\"backend: \\(device)\")"
      ],
      "execution_count": null,
      "outputs": []
    },
    {
      "cell_type": "markdown",
      "metadata": {
        "id": "ysZrpeweN-LS",
        "colab_type": "text"
      },
      "source": [
        "## X10 warm-up"
      ]
    },
    {
      "cell_type": "code",
      "metadata": {
        "id": "QJX4GecfN-LT",
        "colab_type": "code",
        "colab": {}
      },
      "source": [
        "let eagerTensor1 = Tensor([0.0, 1.0, 2.0])\n",
        "let eagerTensor2 = Tensor([1.5, 2.5, 3.5])\n",
        "let eagerTensorSum = eagerTensor1 + eagerTensor2\n",
        "// print(eagerTensorSum)\n",
        "// print(eagerTensor1.device)\n",
        "let x10Tensor2 = Tensor([1.5, 2.5, 3.5], on: Device.defaultXLA)\n",
        "// print(x10Tensor2.device)"
      ],
      "execution_count": null,
      "outputs": []
    },
    {
      "cell_type": "markdown",
      "metadata": {
        "id": "XHwl5J2LN-LV",
        "colab_type": "text"
      },
      "source": [
        "## Instantiate model"
      ]
    },
    {
      "cell_type": "code",
      "metadata": {
        "id": "Xp5-Mh2TN-LW",
        "colab_type": "code",
        "colab": {}
      },
      "source": [
        "// instantiate text processor\n",
        "let vocabularyURL = dataURL.appendingPathComponent(\"vocab.txt\")\n",
        "let vocabulary: Vocabulary = try! Vocabulary(fromFile: vocabularyURL)\n",
        "let tokenizer: Tokenizer = BERTTokenizer(vocabulary: vocabulary, caseSensitive: false, unknownToken: \"[UNK]\", maxTokenLength: nil)\n",
        "let textProcessor = LegacyTextProcessor(vocabulary: vocabulary, tokenizer: tokenizer)\n",
        "\n",
        "// instantiate model\n",
        "let modelSize = 128\n",
        "let config = MotionLangTransformerConfig(\n",
        "    vocabSize: vocabulary.count,\n",
        "    nbJoints: 47,\n",
        "    layerCount: 6,\n",
        "    modelSize: modelSize,\n",
        "    feedForwardSize: 512,\n",
        "    headCount: 4,\n",
        "    dropoutProbability: 0.1,\n",
        "    sentenceMaxPositionalLength: 100,\n",
        "    motionMaxPositionalLength: 500\n",
        ")\n",
        "\n",
        "var start_epoch = 0\n",
        "\n",
        "/// create new model\n",
        "var model = MotionLangTransformer(config: config)\n",
        "\n",
        "/// load model checkpoint\n",
        "// print(\"checkpointURL: \\(checkpointURL.path)\")\n",
        "// start_epoch = 2\n",
        "// var model = try! LangMotionTransformer(checkpoint: checkpointURL, config: config, name: \"model.e\\(start_epoch)\")\n",
        "// model = try! MotionLangTransformer(checkpoint: checkpointURL, config: config, name: \"model.final\")"
      ],
      "execution_count": null,
      "outputs": []
    },
    {
      "cell_type": "markdown",
      "metadata": {
        "id": "ysEn7gicN-LZ",
        "colab_type": "text"
      },
      "source": [
        "## Load dataset"
      ]
    },
    {
      "cell_type": "code",
      "metadata": {
        "id": "CFwP-zu-N-LZ",
        "colab_type": "code",
        "colab": {}
      },
      "source": [
        "print(\"\\nLoading dataset...\")\n",
        "\n",
        "var dataset = try Motion2Lang(\n",
        "    motionDatasetURL: motionDatasetURL,\n",
        "    batchSize: batchSize,\n",
        "    minMotionLength: 20,\n",
        "    maxMotionLength: 100,\n",
        "    trainTestSplit: 0.9,\n",
        "    device: device\n",
        ") { (motionSample: MotionSample) -> MotionLangBatch in    \n",
        "    let singleBatch = textProcessor.preprocess(motionSample: motionSample, maxMotionLength: maxMotionLength, maxTextSequenceLength: maxTextSequenceLength)\n",
        "    return singleBatch\n",
        "}\n",
        "\n",
        "print(\"Dataset acquired.\")"
      ],
      "execution_count": null,
      "outputs": []
    },
    {
      "cell_type": "markdown",
      "metadata": {
        "id": "Wzeal8UdN-Lb",
        "colab_type": "text"
      },
      "source": [
        "## Test model with one batch"
      ]
    },
    {
      "cell_type": "code",
      "metadata": {
        "id": "BxIdHymZN-Lc",
        "colab_type": "code",
        "colab": {}
      },
      "source": [
        "// // get a batch\n",
        "// print(\"\\nOne batch (MotionLangBatch):\")\n",
        "// var epochIterator = dataset.trainEpochs.enumerated().makeIterator()\n",
        "// let epoch = epochIterator.next()\n",
        "// let batches = Array(epoch!.1)\n",
        "// let batch: MotionLangBatch = batches[0]\n",
        "// print(\"type: \\(type(of:batch))\")\n",
        "// print(\"motion.shape: \\(batch.motion.shape)\")\n",
        "// // print(\"motionFlag.shape: \\(batch.motionFlag.shape)\")\n",
        "// print(\"mask.shape: \\(batch.mask.shape)\")\n",
        "// print(\"origMotionFramesCount.shape: \\(batch.origMotionFramesCount.shape)\")\n",
        "// print(\"origMotionFramesCount: \\(batch.origMotionFramesCount)\")\n",
        "// print(\"targetTokenIds.shape: \\(batch.targetTokenIds.shape)\")\n",
        "// print(\"targetMask.shape: \\(batch.targetMask.shape)\")\n",
        "// print(\"targetTruth.shape: \\(batch.targetTruth.shape)\")"
      ],
      "execution_count": null,
      "outputs": []
    },
    {
      "cell_type": "code",
      "metadata": {
        "id": "xb3enWa55kr5",
        "colab_type": "code",
        "colab": {}
      },
      "source": [
        "// // run one batch\n",
        "// print(\"\\nRun one batch:\")\n",
        "// print(\"==============\")\n",
        "// let deviceBatch = MotionLangBatch(copying: batch, to: device)\n",
        "// let output = model(deviceBatch)\n",
        "// print(\"output.shape: \\(output.shape)\")"
      ],
      "execution_count": null,
      "outputs": []
    },
    {
      "cell_type": "markdown",
      "metadata": {
        "id": "gGL_PkLMN-Lf",
        "colab_type": "text"
      },
      "source": [
        "## Optimizer"
      ]
    },
    {
      "cell_type": "code",
      "metadata": {
        "id": "jon3S7pPN-Lf",
        "colab_type": "code",
        "colab": {}
      },
      "source": [
        "var optimizer = x10_optimizers_optimizer.GeneralOptimizer(\n",
        "    for: model,\n",
        "    TensorVisitorPlan(model.differentiableVectorView),\n",
        "    defaultOptimizer: makeWeightDecayedAdam(\n",
        "      learningRate: peakLearningRate,\n",
        "      beta1: beta1,\n",
        "      beta2: beta2\n",
        "    )\n",
        ")\n",
        "\n",
        "var scheduledLearningRate = LinearlyDecayedParameter(\n",
        "  baseParameter: LinearlyWarmedUpParameter(\n",
        "      baseParameter: FixedParameter<Float>(peakLearningRate),\n",
        "      warmUpStepCount: 20,\n",
        "      warmUpOffset: 0),\n",
        "  slope: -(peakLearningRate / Float(stepsPerEpoch * nEpochs)),  // The LR decays linearly to zero.\n",
        "  startStep: 10\n",
        ")\n",
        "\n",
        "public func learningRateUpdater<L: TrainingLoopProtocol>(_ loop: inout L, event: TrainingLoopEvent) throws {\n",
        "    if event == .updateStart {\n",
        "        let optimizer: GeneralOptimizer<MotionLangTransformer> = loop.optimizer as! GeneralOptimizer<MotionLangTransformer>\n",
        "        let step = optimizer.step + 1 // for scheduled rates and bias correction, steps start at 1\n",
        "        optimizer.learningRate = scheduledLearningRate(forStep: UInt64(step))\n",
        "        if useBiasCorrection {\n",
        "          let f_step = Float(step)\n",
        "          optimizer.learningRate *= sqrtf(1 - powf(beta2, f_step)) / (1 - powf(beta1, f_step))\n",
        "        }\n",
        "        // print(\"\\noptimizer: step: \\(optimizer.step), learningRate: \\(optimizer.learningRate)\")\n",
        "    }\n",
        "}"
      ],
      "execution_count": null,
      "outputs": []
    },
    {
      "cell_type": "markdown",
      "metadata": {
        "id": "TQGXiJB1N-Li",
        "colab_type": "text"
      },
      "source": [
        "## Training helpers"
      ]
    },
    {
      "cell_type": "code",
      "metadata": {
        "id": "0g22npgZN-Li",
        "colab_type": "code",
        "colab": {}
      },
      "source": [
        "/// stats recorder\n",
        "public class StatsRecorder {\n",
        "    let summaryWriter = SummaryWriter(logdir: logdirURL, flushMillis: 30*1000)\n",
        "    public var trainingStepCount = 0\n",
        "    public var trainingBatchCount = 0\n",
        "    public var trainingLossSum: Float = 0.0\n",
        "    public var epochIndex = 0 // FIXME: Workaround\n",
        "\n",
        "    public func writeStats<L: TrainingLoopProtocol>(_ loop: inout L, event: TrainingLoopEvent) throws {\n",
        "        if event == .batchEnd {\n",
        "            guard\n",
        "            // let batchIndex = loop.batchIndex,\n",
        "            let trainingLoss = loop.lastLoss else {\n",
        "                return\n",
        "            }\n",
        "            // print(\"\\nbatch stats: batchIndex: \\(batchIndex), trainingStepCount: \\(trainingStepCount), trainingLoss: \\(trainingLoss)\")\n",
        "            summaryWriter.writeScalarSummary(tag: \"TrainingLoss\", step: trainingStepCount, value:trainingLoss.scalar!)\n",
        "            trainingStepCount += 1\n",
        "            trainingBatchCount += 1\n",
        "            trainingLossSum += Float(trainingLoss.scalar!)\n",
        "        }\n",
        "        if event == .epochStart {\n",
        "            trainingBatchCount = 0\n",
        "            trainingLossSum = 0.0\n",
        "        }\n",
        "        if event == .epochEnd {\n",
        "            // guard let epochIndex = loop.epochIndex else {\n",
        "            //     return\n",
        "            // }\n",
        "            let current_epoch = epochIndex + 1\n",
        "            let epochTrainingLoss = trainingLossSum / Float(trainingBatchCount)\n",
        "            // print(\"\\nepoch stats: current_epoch: \\(current_epoch), epochTrainingLoss: \\(epochTrainingLoss)\")\n",
        "            summaryWriter.writeScalarSummary(tag: \"EpochTrainingLoss\", step: current_epoch, value: epochTrainingLoss)\n",
        "        }\n",
        "        if event == .fitEnd {\n",
        "            summaryWriter.flush()\n",
        "        }\n",
        "    }\n",
        "}\n",
        "\n",
        "let statsRecorder = StatsRecorder()"
      ],
      "execution_count": null,
      "outputs": []
    },
    {
      "cell_type": "code",
      "metadata": {
        "id": "y-pArNyYon9t",
        "colab_type": "code",
        "colab": {}
      },
      "source": [
        "@differentiable(wrt: y_pred)\n",
        "func embeddedSoftmaxCrossEntropy(y_pred: Tensor<Float>, y_true: MotionLangBatch.MLTarget) -> Tensor<Float> {\n",
        "    let resultSize = y_true.targetTruth.shape.last! * y_true.targetTruth.shape.first!\n",
        "    let logits = y_pred.reshaped(to: [resultSize, -1])\n",
        "    let labels = y_true.targetTruth.reshaped(to: [-1])\n",
        "    // TODO: ignore padded entries\n",
        "    return softmaxCrossEntropy(logits: logits, labels: labels)\n",
        "}"
      ],
      "execution_count": null,
      "outputs": []
    },
    {
      "cell_type": "markdown",
      "metadata": {
        "id": "Kr2TXD10N-Lk",
        "colab_type": "text"
      },
      "source": [
        "## Set up decoding"
      ]
    },
    {
      "cell_type": "code",
      "metadata": {
        "id": "TWM7srrpN-Lk",
        "colab_type": "code",
        "colab": {}
      },
      "source": [
        "func greedyDecode(model: MotionLangTransformer, input: MotionLangBatch.MLSource, maxLength: Int, startSymbol: Int32) -> Tensor<Int32> {\n",
        "    let memory = model.encode(input: input).lastLayerOutput\n",
        "    var ys = Tensor(repeating: startSymbol, shape: [1,1])\n",
        "    for _ in 0..<maxLength {\n",
        "        let motionPartFlag = Tensor<Int32>(repeating: 1, shape: [1, ys.shape[1]])\n",
        "        var motionPartMask = MotionLangBatch.makeStandardMask(target: motionPartFlag, pad: 0, shiftRight: true)\n",
        "        let motionLen = Int(motionPartFlag.sum().scalar!)\n",
        "        motionPartMask[0, 0..<motionLen-1, 0..<motionLen] -= 1\n",
        "        motionPartMask = abs(motionPartMask)\n",
        "\n",
        "        let decoderInput = MotionLangBatch.MLSource(sampleID: input.sampleID, motion: input.motion,\n",
        "                                     mask: input.mask,\n",
        "                                     origMotionFramesCount: input.origMotionFramesCount,\n",
        "                                     targetTokenIds: ys,\n",
        "                                     targetMask: motionPartMask\n",
        "                                     )\n",
        "        let out = model.decode(input: decoderInput, memory: memory).lastLayerOutput\n",
        "        let prob = model.generate(input: out[0...,-1])\n",
        "        let nextWord = Int32(prob.argmax().scalarized())\n",
        "        ys = Tensor(concatenating: [ys, Tensor(repeating: nextWord, shape: [1,1])], alongAxis: 1) // , on: device\n",
        "    }\n",
        "    return ys\n",
        "}"
      ],
      "execution_count": null,
      "outputs": []
    },
    {
      "cell_type": "code",
      "metadata": {
        "id": "T2XXZEupyHHj",
        "colab_type": "code",
        "colab": {}
      },
      "source": [
        "func greedyDecodeSample(_ sample_id: Int, maxLength: Int = 15) {\n",
        "    let motionSample = dataset.motionSampleDict[sample_id]!\n",
        "    print(\"\\nsample: \\(motionSample.sampleID), \\\"\\(motionSample.annotations[0])\\\", motion: \\(motionSample.timesteps[-1]) sec (\\(motionSample.motion.shape[0]) frames)\")\n",
        "\n",
        "    let singleBatch = textProcessor.preprocess(motionSample: motionSample, maxMotionLength: maxMotionLength, maxTextSequenceLength: maxTextSequenceLength)\n",
        "    let out = greedyDecode(model: model, input: singleBatch.source, maxLength: maxLength, startSymbol: textProcessor.bosId)\n",
        "    let outputStr = textProcessor.decode(tensor: out)\n",
        "    print(\"decoded: \\\"\\(outputStr)\\\"\")\n",
        "}"
      ],
      "execution_count": null,
      "outputs": []
    },
    {
      "cell_type": "code",
      "metadata": {
        "id": "s73XJlq5U7NT",
        "colab_type": "code",
        "colab": {}
      },
      "source": [
        "let samplesToDecode = [\n",
        "//    [\"sampleID\": 733, \"text\": \"Ala ma kota.\"], // for .micro dataset\n",
        "    [\"sampleID\": 449, \"text\": \"A person runs forward.\"],\n",
        "    [\"sampleID\": 3921, \"text\": \"A human is swimming.\"],\n",
        "    [\"sampleID\": 843, \"text\": \"A person walks.\"],\n",
        "    [\"sampleID\": 1426, \"text\": \"A person plays the air guitar.\"],\n",
        "    [\"sampleID\": 1292, \"text\": \"A person performs a squat.\"],\n",
        "    [\"sampleID\": 1315, \"text\": \"A human raises their left foot and touches it with the right hand.\"]\n",
        "]"
      ],
      "execution_count": null,
      "outputs": []
    },
    {
      "cell_type": "markdown",
      "metadata": {
        "id": "22deJipJN-Lr",
        "colab_type": "text"
      },
      "source": [
        "## Training loop"
      ]
    },
    {
      "cell_type": "code",
      "metadata": {
        "id": "p0Gq7gWP9M9d",
        "colab_type": "code",
        "colab": {}
      },
      "source": [
        "// start tensorboard\n",
        "// cd /content/data\n",
        "// tensorboard --bind_all --logdir runs/Motion2lang/"
      ],
      "execution_count": null,
      "outputs": []
    },
    {
      "cell_type": "code",
      "metadata": {
        "id": "U56YYj7i0Bft",
        "colab_type": "code",
        "colab": {}
      },
      "source": [
        "// let nEpochs = 10"
      ],
      "execution_count": null,
      "outputs": []
    },
    {
      "cell_type": "code",
      "metadata": {
        "id": "7QPJMsdTN-Lr",
        "colab_type": "code",
        "colab": {}
      },
      "source": [
        "// Training loop\n",
        "print(\"\\nSetting up the training loop\")\n",
        "let trainingProgress = TrainingProgress(metrics: [.loss])\n",
        "var trainingLoop: TrainingLoop = TrainingLoop(\n",
        "    training: dataset.trainEpochs,\n",
        "    validation: dataset.testBatches,\n",
        "    optimizer: optimizer,\n",
        "    lossFunction:  embeddedSoftmaxCrossEntropy,\n",
        "    callbacks: [trainingProgress.update, statsRecorder.writeStats, learningRateUpdater]\n",
        "//    callbacks: []\n",
        ")\n",
        "\n",
        "print(\"\\nTraining Transformer for the Motion2lang task!\")\n",
        "// FIXME: epoch loop workaround for checkpoint saving\n",
        "for epochIndex in start_epoch..<start_epoch+nEpochs {\n",
        "    print(\"epoch \\(epochIndex+1)/\\(start_epoch + nEpochs)\")\n",
        "    statsRecorder.epochIndex = epochIndex\n",
        "    try! trainingLoop.fit(&model, epochs: 1, on: device)\n",
        "    try! model.writeCheckpoint(to: checkpointURL, name: \"model.e\\(epochIndex+1)\")\n",
        "\n",
        "    Context.local.learningPhase = .inference\n",
        "    model.move(to: Device.defaultTFEager)\n",
        "    for sample in samplesToDecode {\n",
        "        greedyDecodeSample(sample[\"sampleID\"] as! Int, maxLength: 20)\n",
        "    }\n",
        "    model.move(to: device)\n",
        "}\n",
        "\n",
        "try! model.writeCheckpoint(to: checkpointURL, name: \"model.final\")\n",
        "print(\"\\nFinished training.\")"
      ],
      "execution_count": null,
      "outputs": []
    },
    {
      "cell_type": "markdown",
      "metadata": {
        "id": "WUoXa70uzoTL",
        "colab_type": "text"
      },
      "source": [
        "## Generate motion description"
      ]
    },
    {
      "cell_type": "code",
      "metadata": {
        "id": "MMY-iAwaN-Lw",
        "colab_type": "code",
        "colab": {}
      },
      "source": [
        "// let sample_id = 2410\n",
        "// let sample_id = 446\n",
        "let sample_id = 449\n",
        "// let sample_id = 733\n",
        "Context.local.learningPhase = .inference\n",
        "model.move(to: Device.defaultTFEager)\n",
        "greedyDecodeSample(sample_id, maxLength: 100)\n",
        "model.move(to: device)"
      ],
      "execution_count": null,
      "outputs": []
    },
    {
      "cell_type": "code",
      "metadata": {
        "id": "j_M2Jjz5wBn2",
        "colab_type": "code",
        "colab": {}
      },
      "source": [
        ""
      ],
      "execution_count": null,
      "outputs": []
    }
  ]
}