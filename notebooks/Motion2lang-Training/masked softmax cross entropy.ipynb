{
 "cells": [
  {
   "cell_type": "code",
   "execution_count": null,
   "metadata": {},
   "outputs": [],
   "source": [
    "import TensorFlow"
   ]
  },
  {
   "cell_type": "code",
   "execution_count": null,
   "metadata": {},
   "outputs": [],
   "source": [
    "let logits = Tensor<Float>(randomUniform: [10, 20])\n",
    "logits.shape"
   ]
  },
  {
   "cell_type": "code",
   "execution_count": null,
   "metadata": {},
   "outputs": [],
   "source": [
    "let labels = Tensor<Int32>([1, 2, 3, 4, 5, 0, 0, 0, 0, 0])\n",
    "labels.shape"
   ]
  },
  {
   "cell_type": "code",
   "execution_count": null,
   "metadata": {},
   "outputs": [],
   "source": [
    "softmaxCrossEntropy(logits: logits, labels: labels, reduction: _mean)"
   ]
  },
  {
   "cell_type": "code",
   "execution_count": null,
   "metadata": {},
   "outputs": [],
   "source": [
    "let nonZeroCount = Float(labels.replacing(with: Tensor<Int32>(repeating: 1, shape: labels.shape), where: labels .!= Tensor(0)).sum().scalar!)\n",
    "nonZeroCount"
   ]
  },
  {
   "cell_type": "raw",
   "metadata": {},
   "source": [
    "let mask = Tensor<Float>(labels.replacing(with: Tensor<Int32>(repeating: 1, shape: labels.shape), where: labels .!= Tensor<Int32>(0)).expandingShape(at: 1).broadcasted(to: logits.shape))\n",
    "mask.shape"
   ]
  },
  {
   "cell_type": "raw",
   "metadata": {},
   "source": [
    "mask"
   ]
  },
  {
   "cell_type": "code",
   "execution_count": null,
   "metadata": {},
   "outputs": [],
   "source": [
    "@differentiable\n",
    "func _none(tensor: Tensor<Float>) -> Tensor<Float> {\n",
    "    return tensor\n",
    "}"
   ]
  },
  {
   "cell_type": "code",
   "execution_count": null,
   "metadata": {},
   "outputs": [],
   "source": [
    "let sceLoss = softmaxCrossEntropy(logits: logits, labels: labels, reduction: _none)"
   ]
  },
  {
   "cell_type": "code",
   "execution_count": null,
   "metadata": {},
   "outputs": [],
   "source": [
    "let lossMask = Tensor<Float>(labels.replacing(with: Tensor<Int32>(repeating: 1, shape: labels.shape), where: labels .!= Tensor<Int32>(0)))\n",
    "lossMask.shape"
   ]
  },
  {
   "cell_type": "code",
   "execution_count": null,
   "metadata": {},
   "outputs": [],
   "source": [
    "lossMask"
   ]
  },
  {
   "cell_type": "code",
   "execution_count": null,
   "metadata": {},
   "outputs": [],
   "source": [
    "let maskedLoss = sceLoss * lossMask\n",
    "maskedLoss"
   ]
  },
  {
   "cell_type": "code",
   "execution_count": null,
   "metadata": {},
   "outputs": [],
   "source": [
    "let loss = maskedLoss.sum()/nonZeroCount\n",
    "loss"
   ]
  },
  {
   "cell_type": "code",
   "execution_count": null,
   "metadata": {},
   "outputs": [],
   "source": []
  }
 ],
 "metadata": {
  "kernelspec": {
   "display_name": "Swift",
   "language": "swift",
   "name": "swift"
  },
  "language_info": {
   "file_extension": ".swift",
   "mimetype": "text/x-swift",
   "name": "swift",
   "version": ""
  }
 },
 "nbformat": 4,
 "nbformat_minor": 4
}
