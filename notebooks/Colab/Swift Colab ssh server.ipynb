{
  "nbformat": 4,
  "nbformat_minor": 0,
  "metadata": {
    "colab": {
      "name": "swift colab ssh server.ipynb",
      "provenance": [],
      "private_outputs": true,
      "collapsed_sections": []
    },
    "kernelspec": {
      "name": "swift",
      "display_name": "Swift"
    },
    "accelerator": "GPU"
  },
  "cells": [
    {
      "cell_type": "markdown",
      "metadata": {
        "id": "504YFETk-ZNx"
      },
      "source": [
        "## check GPU type"
      ]
    },
    {
      "cell_type": "code",
      "metadata": {
        "id": "EAJcz2amYe9r"
      },
      "source": [
        "import Foundation\n",
        "\n",
        "func shell(_ command: String) -> String {\n",
        "    let task = Process()\n",
        "    let pipe = Pipe()\n",
        "\n",
        "    task.standardOutput = pipe\n",
        "    task.arguments = [\"-c\", command]\n",
        "    task.launchPath = \"/bin/bash\"\n",
        "    task.launch()\n",
        "\n",
        "    let data = pipe.fileHandleForReading.readDataToEndOfFile()\n",
        "    return String(data: data, encoding: .utf8)!\n",
        "}\n",
        "\n",
        "func sh(_ command: String) {\n",
        "    print(shell(command))\n",
        "}\n",
        "\n",
        "sh(\"\"\"\n",
        "export PATH=\"$PATH:/opt/bin:/swift/toolchain/usr/bin\"\n",
        "export LD_LIBRARY_PATH=\"/usr/lib64-nvidia:$LD_LIBRARY_PATH\"\n",
        "nvidia-smi\n",
        "\"\"\")"
      ],
      "execution_count": null,
      "outputs": []
    },
    {
      "cell_type": "markdown",
      "metadata": {
        "id": "c2UQZHISpJxT"
      },
      "source": [
        "## run colab ssh server"
      ]
    },
    {
      "cell_type": "code",
      "metadata": {
        "id": "_0gdDpIYRa_k"
      },
      "source": [
        "// run colab ssh server\n",
        "// after it finishes, interrupt cell execution\n",
        "sh(\"bash <(curl -s https://raw.githubusercontent.com/wojtekcz/language2motion/master/notebooks/Colab/swift_colab_ssh_server.sh)\")"
      ],
      "execution_count": null,
      "outputs": []
    },
    {
      "cell_type": "code",
      "metadata": {
        "id": "JaFd04JfSbat"
      },
      "source": [
        "// sh(\"ls -l /etc/ssh/\")"
      ],
      "execution_count": null,
      "outputs": []
    },
    {
      "cell_type": "code",
      "metadata": {
        "id": "XJXTtWF4Sk5s"
      },
      "source": [
        "// sh(\"cat /etc/ssh/sshd_config\")\n",
        "// sh(\"cat /root/.bashrc\")\n",
        "// sh(\"ls -la /root/.ssh\")"
      ],
      "execution_count": null,
      "outputs": []
    },
    {
      "cell_type": "markdown",
      "metadata": {
        "id": "n2UmZ9ylo6Ay"
      },
      "source": [
        "## set git user name & email"
      ]
    },
    {
      "cell_type": "code",
      "metadata": {
        "id": "A5oOnS6Vox1r"
      },
      "source": [
        "\n",
        "sh(\"git config --global user.name \\\"Wojtek Czarnowski\\\"\")\n",
        "sh(\"git config --global user.email \\\"wojtek.czarnowski@gmail.com\\\"\")"
      ],
      "execution_count": null,
      "outputs": []
    },
    {
      "cell_type": "markdown",
      "metadata": {
        "id": "hAGInW5t-qs9"
      },
      "source": [
        "## setup project sources and data"
      ]
    },
    {
      "cell_type": "code",
      "metadata": {
        "id": "CsFVnEOTt463"
      },
      "source": [
        "// let dataset_name = \"motion_dataset_v3.10Hz\"\n",
        "// let dataset_name = \"motion_dataset_v3.10Hz.multi.mini\"\n",
        "let dataset_name = \"motion_dataset_v3.10Hz.small\"\n",
        "// let dataset_name = \"motion_dataset_v3.10Hz.multi.midi\"\n",
        "// let dataset_name = \"motion_dataset_v3.10Hz.micro\""
      ],
      "execution_count": null,
      "outputs": []
    },
    {
      "cell_type": "code",
      "metadata": {
        "id": "52Mx08pk0xB5"
      },
      "source": [
        "// cd /content/language2motion.gt/data/\n",
        "// wget -nv --show-progress -N https://github.com/wojtekcz/language2motion/releases/download/v0.3.0/motion_dataset_v3.10Hz.tgz\n",
        "// tar xzvf motion_dataset_v3.10Hz.tgz --skip-old-files\n",
        "// wget -nv --show-progress -N https://github.com/wojtekcz/language2motion/releases/download/v0.3.0/motion_dataset_v3.10Hz.mini.tgz\n",
        "// wget -nv --show-progress -N https://github.com/wojtekcz/language2motion/releases/download/v0.3.0/motion_dataset_v3.10Hz.multi.midi.tgz\n",
        "// wget -nv --show-progress -N https://github.com/wojtekcz/language2motion/releases/download/v0.3.0/motion_dataset_v3.10Hz.multi.mini.tgz\n",
        "// tar xzvf motion_dataset_v3.10Hz.multi.midi.tgz --skip-old-files\n",
        "// tar xzvf motion_dataset_v3.10Hz.midi.tgz --skip-old-files\n",
        "// wget -nv --show-progress -N https://github.com/wojtekcz/language2motion/releases/download/v0.3.0/motion_dataset_v3.10Hz.multi.tgz\n",
        "// tar xzvf motion_dataset_v3.10Hz.multi.tgz --skip-old-files\n",
        "// wget -nv --show-progress -N https://github.com/wojtekcz/language2motion/releases/download/v0.3.0/run_75.model.e100.tgz"
      ],
      "execution_count": null,
      "outputs": []
    },
    {
      "cell_type": "code",
      "metadata": {
        "id": "ssK_Z-qElO2z"
      },
      "source": [
        "sh(\"ln -s /swift/toolchain/ /swift-tensorflow-toolchain\")\n",
        "sh(\"ln -s /content /notebooks\")\n",
        "sh(\"git clone https://github.com/wojtekcz/language2motion.git /content/language2motion.gt\")\n",
        "sh(\"\"\"\n",
        "cd /content/language2motion.gt/data/\n",
        "wget -nv --show-progress -N https://github.com/wojtekcz/language2motion/releases/download/v0.3.0/\\(dataset_name).tgz\n",
        "wget -nv -N https://github.com/wojtekcz/language2motion/releases/download/v0.1.0/vocab.txt\n",
        "# wget -nv -N https://github.com/wojtekcz/language2motion/releases/download/v0.1.0/labels_ds_v2.balanced.515.csv\n",
        "# wget -nv --show-progress -N https://github.com/wojtekcz/language2motion/releases/download/v0.2.0/\\(dataset_name).tgz\n",
        "# wget -nv -N https://github.com/wojtekcz/language2motion/releases/download/v0.1.0/labels_ds_v2.csv\n",
        "tar xzvf \\(dataset_name).tgz --skip-old-files\n",
        "\"\"\")"
      ],
      "execution_count": null,
      "outputs": []
    },
    {
      "cell_type": "code",
      "metadata": {
        "id": "RHfqogUjtpsk"
      },
      "source": [
        "// checkpoints\n",
        "// https://github.com/wojtekcz/language2motion/releases/download/v0.3.0/run_set_14.run_1.e80.tgz\n",
        "// tar xzfv run_set_14.run_1.e80.tgz"
      ],
      "execution_count": null,
      "outputs": []
    },
    {
      "cell_type": "markdown",
      "metadata": {
        "id": "AhFJe3bkdFFF"
      },
      "source": [
        "## tensorboard"
      ]
    },
    {
      "cell_type": "code",
      "metadata": {
        "id": "HNkHqUEEdFet"
      },
      "source": [
        "// cd /content/language2motion.gt/data\n",
        "// tensorboard --bind_all --logdir runs/Motion2lang\n",
        "// tensorboard --bind_all --logdir runs/Lang2motion"
      ],
      "execution_count": null,
      "outputs": []
    },
    {
      "cell_type": "markdown",
      "metadata": {
        "id": "WmFupdxwdVH1"
      },
      "source": [
        "## run training"
      ]
    },
    {
      "cell_type": "code",
      "metadata": {
        "id": "aFHASjA-dUhT"
      },
      "source": [
        "// cd /content/language2motion.gt\n",
        "// swift run -c release Lang2lang\n",
        "// swift run -c release Motion2lang\n",
        "// swift run -c release Lang2motionSet\n",
        "// /content/usr/bin/swift run -c release Lang2motionSet"
      ],
      "execution_count": null,
      "outputs": []
    },
    {
      "cell_type": "markdown",
      "metadata": {
        "id": "_yLZFqXU--q1"
      },
      "source": [
        "## debug"
      ]
    },
    {
      "cell_type": "code",
      "metadata": {
        "id": "O3zCv2FqghiZ"
      },
      "source": [
        "sh(\"ps ax|grep ssh\")"
      ],
      "execution_count": null,
      "outputs": []
    },
    {
      "cell_type": "code",
      "metadata": {
        "id": "xVbM1ppxhRk1"
      },
      "source": [
        "sh(\"kill -9 1836\")  // enter ssh pid to kill the tunnel"
      ],
      "execution_count": null,
      "outputs": []
    },
    {
      "cell_type": "code",
      "metadata": {
        "id": "d-3pDZi1v5Vx"
      },
      "source": [
        "sh(\"uptime\")"
      ],
      "execution_count": null,
      "outputs": []
    },
    {
      "cell_type": "markdown",
      "metadata": {
        "id": "x9cy9rx9NpFN"
      },
      "source": [
        "## update toolchain"
      ]
    },
    {
      "cell_type": "code",
      "metadata": {
        "id": "eYBYpBMmNtJo"
      },
      "source": [
        "sh(\"\"\"\n",
        "cd /content/\n",
        "wget https://storage.googleapis.com/swift-tensorflow-artifacts/nightlies/latest/swift-tensorflow-DEVELOPMENT-cuda10.1-cudnn7-ubuntu18.04.tar.gz\n",
        "tar xzf swift-tensorflow-DEVELOPMENT-cuda10.1-cudnn7-ubuntu18.04.tar.gz\n",
        "\"\"\")\n",
        "// wget https://storage.googleapis.com/swift-tensorflow-artifacts/nightlies/latest/swift-tensorflow-DEVELOPMENT-cuda10.1-cudnn7-ubuntu18.04.tar.gz\n",
        "// tar xzf swift-tensorflow-DEVELOPMENT-cuda10.1-cudnn7-ubuntu18.04.tar.gz"
      ],
      "execution_count": null,
      "outputs": []
    }
  ]
}